{
 "cells": [
  {
   "cell_type": "markdown",
   "metadata": {},
   "source": [
    "# Libraries"
   ]
  },
  {
   "cell_type": "code",
   "execution_count": 2,
   "metadata": {},
   "outputs": [],
   "source": [
    "import torch\n",
    "import torch.nn as nn\n",
    "import torch.optim as optim\n",
    "import torch.nn.functional as F\n",
    "from torch.utils.data import DataLoader\n",
    "from torchvision import datasets, transforms"
   ]
  },
  {
   "cell_type": "code",
   "execution_count": 3,
   "metadata": {},
   "outputs": [],
   "source": [
    "device = torch.device('cuda' if torch.cuda.is_available() else 'cpu')"
   ]
  },
  {
   "cell_type": "markdown",
   "metadata": {},
   "source": [
    "# Load Data"
   ]
  },
  {
   "cell_type": "code",
   "execution_count": 4,
   "metadata": {},
   "outputs": [],
   "source": [
    "batch_size = 64\n",
    "\n",
    "train_dataset = datasets.MNIST(root = \"dataset/\", train = True, transform=transforms.ToTensor(), download= True)\n",
    "train_loader = DataLoader(dataset = train_dataset, batch_size= batch_size, shuffle= True)\n",
    "\n",
    "test_dataset = datasets.MNIST(root = \"dataset/\", train = False, transform=transforms.ToTensor(), download= True)\n",
    "test_loader = DataLoader(dataset = test_dataset, batch_size= batch_size, shuffle= True)"
   ]
  },
  {
   "attachments": {},
   "cell_type": "markdown",
   "metadata": {},
   "source": [
    "# define the model"
   ]
  },
  {
   "cell_type": "markdown",
   "metadata": {},
   "source": [
    "## NN"
   ]
  },
  {
   "cell_type": "code",
   "execution_count": 5,
   "metadata": {},
   "outputs": [
    {
     "name": "stdout",
     "output_type": "stream",
     "text": [
      "torch.Size([64, 10])\n"
     ]
    }
   ],
   "source": [
    "class NN(nn.Module):\n",
    "    def __init__(self, input_size, num_classes):\n",
    "        super(NN, self).__init__()\n",
    "        self.flatten = nn.Flatten()\n",
    "        self.fc1 = nn.Linear(input_size, 50)\n",
    "        self.fc2 = nn.Linear(50, num_classes)\n",
    "    \n",
    "    def forward(self, x):\n",
    "        x = self.flatten(x)\n",
    "        x = F.relu(self.fc1(x))\n",
    "        x = self.fc2(x)\n",
    "        return x\n",
    "    \n",
    "\n",
    "model = NN(784, 10)\n",
    "x = torch.randn(64, 784)\n",
    "print(model(x).shape)"
   ]
  },
  {
   "cell_type": "markdown",
   "metadata": {},
   "source": [
    "## CNN"
   ]
  },
  {
   "cell_type": "code",
   "execution_count": 6,
   "metadata": {},
   "outputs": [
    {
     "name": "stdout",
     "output_type": "stream",
     "text": [
      "torch.Size([64, 10])\n"
     ]
    }
   ],
   "source": [
    "class CNN(nn.Module):\n",
    "    def __init__(self, in_channels, num_classes):\n",
    "        super(CNN, self).__init__()\n",
    "        self.conv1 = nn.Conv2d(in_channels, out_channels = 8, kernel_size = (3,3), stride = (1,1), padding = (1,1))\n",
    "        self.pool = nn.MaxPool2d(kernel_size = (2,2), stride = (2,2))\n",
    "        self.conv2 = nn.Conv2d(8, out_channels = 16, kernel_size = (3,3), stride = (1,1), padding = (1,1))\n",
    "        self.fc1 = nn.Linear(7*7*16, num_classes)\n",
    "\n",
    "    def forward(self, x):\n",
    "        # print(self.conv1)\n",
    "        # print(x.shape)\n",
    "        x = F.relu(self.conv1(x))\n",
    "        # print(x.shape)\n",
    "        x = self.pool(x)\n",
    "        # print(x.shape)\n",
    "        x = F.relu(self.conv2(x))\n",
    "        # print(x.shape)\n",
    "        x = self.pool(x)\n",
    "        # print(x.shape)\n",
    "        x = x.reshape(x.shape[0], -1)\n",
    "        # print(x.shape)\n",
    "        x = self.fc1(x)\n",
    "\n",
    "        return x\n",
    "\n",
    "model = CNN(1, 10)\n",
    "x = torch.randn(64, 1, 28, 28)\n",
    "print(model(x).shape)\n"
   ]
  },
  {
   "cell_type": "markdown",
   "metadata": {},
   "source": [
    "# Hyperparameters"
   ]
  },
  {
   "cell_type": "code",
   "execution_count": 7,
   "metadata": {},
   "outputs": [],
   "source": [
    "#for CNN\n",
    "in_channels = 1 \n",
    "#for NN\n",
    "input_size = 784 \n",
    "\n",
    "# for both\n",
    "num_classes = 10\n",
    "learning_rate = 0.001\n",
    "batch_size = 64\n",
    "num_epochs = 4\n",
    "loss_fn = nn.CrossEntropyLoss()"
   ]
  },
  {
   "cell_type": "markdown",
   "metadata": {},
   "source": [
    "# Train"
   ]
  },
  {
   "cell_type": "code",
   "execution_count": null,
   "metadata": {},
   "outputs": [],
   "source": [
    "def train(model, train_loader, valid_loader, loss_fn, optimizer, n_epochs):\n",
    "    for epoch in range(1, n_epochs+1):\n",
    "        # Keep track of training and validation loss\n",
    "        train_loss = 0.0\n",
    "        valid_loss = 0.0\n",
    "        train_accuracy = 0.0\n",
    "        valid_accuracy = 0.0\n",
    "\n",
    "        \n",
    "        # Train the model\n",
    "        model.train()\n",
    "        for data in train_loader:\n",
    "            inputs, labels = data\n",
    "            inputs = inputs.to(device)\n",
    "            labels = labels.to(device)\n",
    "            optimizer.zero_grad()\n",
    "            outputs = model(inputs)\n",
    "            loss = loss_fn(outputs, labels)\n",
    "            loss.backward()\n",
    "            optimizer.step()\n",
    "            train_loss += loss.item()*inputs.size(0)\n",
    "            train_accuracy += (outputs.argmax(1) == labels).type(torch.float).sum().item()\n",
    "        \n",
    "        # Evaluate the model\n",
    "        model.eval()\n",
    "        for data in valid_loader:\n",
    "            inputs, labels = data\n",
    "            inputs = inputs.to(device)\n",
    "            labels = labels.to(device)\n",
    "            outputs = model(inputs)\n",
    "            loss = loss_fn(outputs, labels)\n",
    "            valid_loss += loss.item()*inputs.size(0)\n",
    "            valid_accuracy += (outputs.argmax(1) == labels).type(torch.float).sum().item()\n",
    "        \n",
    "        # Calculate average losses\n",
    "        train_loss = train_loss/len(train_loader.dataset)\n",
    "        valid_loss = valid_loss/len(valid_loader.dataset)\n",
    "        train_accuracy = train_accuracy/len(train_loader.dataset)\n",
    "        valid_accuracy = valid_accuracy/len(valid_loader.dataset)\n",
    "\n",
    "        # save the model each 5 epochs\n",
    "        if epoch % 5 == 0:\n",
    "            torch.save(model.state_dict(), f'model_{epoch}.pt')\n",
    "        \n",
    "        print(f'Epoch: {epoch} \\tTraining Loss: {train_loss:.6f} | Training Accuracy: {train_accuracy:.6f} | Validation Loss: {valid_loss:.6f} | Validation Accuracy: {valid_accuracy:.6f}')"
   ]
  },
  {
   "cell_type": "markdown",
   "metadata": {},
   "source": [
    "# Test"
   ]
  },
  {
   "cell_type": "code",
   "execution_count": 9,
   "metadata": {},
   "outputs": [],
   "source": [
    "def test(dataloader, model, loss_fn):\n",
    "    \n",
    "    size = len(dataloader.dataset)\n",
    "    num_batches = len(dataloader)\n",
    "\n",
    "    model.eval()\n",
    "    test_loss, correct = 0, 0\n",
    "\n",
    "    with torch.no_grad():\n",
    "        for X, y in dataloader:\n",
    "\n",
    "            X = X.to(device)\n",
    "            y = y.to(device)\n",
    "\n",
    "            pred = model(X)\n",
    "            test_loss += loss_fn(pred, y).item()\n",
    "\n",
    "            correct += (pred.argmax(1) == y).type(torch.float).sum().item()\n",
    "\n",
    "    test_loss /= num_batches\n",
    "    correct /= size\n",
    "    \n",
    "    print(f\"Test Error: \\n Accuracy: {(100*correct):>0.1f}%, Avg loss: {test_loss:>8f} \\n\")"
   ]
  },
  {
   "cell_type": "markdown",
   "metadata": {},
   "source": [
    "# Run"
   ]
  },
  {
   "cell_type": "code",
   "execution_count": 13,
   "metadata": {},
   "outputs": [
    {
     "name": "stdout",
     "output_type": "stream",
     "text": [
      "Epoch 0 batch 0 loss 2.3164\n",
      "Epoch 0 batch 50 loss 0.8973\n",
      "Epoch 0 batch 100 loss 0.4530\n",
      "Epoch 0 batch 150 loss 0.4619\n",
      "Epoch 0 batch 200 loss 0.4508\n",
      "Epoch 0 batch 250 loss 0.5095\n",
      "Epoch 0 batch 300 loss 0.2414\n",
      "Epoch 0 batch 350 loss 0.1727\n",
      "Epoch 0 batch 400 loss 0.2822\n",
      "Epoch 0 batch 450 loss 0.2896\n",
      "Epoch 0 batch 500 loss 0.3294\n",
      "Epoch 0 batch 550 loss 0.2765\n",
      "Epoch 0 batch 600 loss 0.2711\n",
      "Epoch 0 batch 650 loss 0.2085\n",
      "Epoch 0 batch 700 loss 0.2591\n",
      "Epoch 0 batch 750 loss 0.2355\n",
      "Epoch 0 batch 800 loss 0.2276\n",
      "Epoch 0 batch 850 loss 0.1464\n",
      "Epoch 0 batch 900 loss 0.3562\n",
      "Epoch 1 batch 0 loss 0.2313\n",
      "Epoch 1 batch 50 loss 0.2728\n",
      "Epoch 1 batch 100 loss 0.1785\n",
      "Epoch 1 batch 150 loss 0.1313\n",
      "Epoch 1 batch 200 loss 0.1948\n",
      "Epoch 1 batch 250 loss 0.2090\n",
      "Epoch 1 batch 300 loss 0.3156\n",
      "Epoch 1 batch 350 loss 0.2841\n",
      "Epoch 1 batch 400 loss 0.1701\n",
      "Epoch 1 batch 450 loss 0.1604\n",
      "Epoch 1 batch 500 loss 0.1671\n",
      "Epoch 1 batch 550 loss 0.1422\n",
      "Epoch 1 batch 600 loss 0.2245\n",
      "Epoch 1 batch 650 loss 0.1704\n",
      "Epoch 1 batch 700 loss 0.1120\n",
      "Epoch 1 batch 750 loss 0.1361\n",
      "Epoch 1 batch 800 loss 0.1426\n",
      "Epoch 1 batch 850 loss 0.2462\n",
      "Epoch 1 batch 900 loss 0.0787\n",
      "f saved model at epoch {epoch}\n",
      "Epoch 2 batch 0 loss 0.1342\n",
      "Epoch 2 batch 50 loss 0.1319\n",
      "Epoch 2 batch 100 loss 0.1341\n",
      "Epoch 2 batch 150 loss 0.1324\n",
      "Epoch 2 batch 200 loss 0.0820\n",
      "Epoch 2 batch 250 loss 0.1097\n",
      "Epoch 2 batch 300 loss 0.1171\n",
      "Epoch 2 batch 350 loss 0.2010\n",
      "Epoch 2 batch 400 loss 0.1123\n",
      "Epoch 2 batch 450 loss 0.1075\n",
      "Epoch 2 batch 500 loss 0.2395\n",
      "Epoch 2 batch 550 loss 0.1929\n",
      "Epoch 2 batch 600 loss 0.2457\n",
      "Epoch 2 batch 650 loss 0.1164\n",
      "Epoch 2 batch 700 loss 0.1048\n",
      "Epoch 2 batch 750 loss 0.1192\n",
      "Epoch 2 batch 800 loss 0.0958\n",
      "Epoch 2 batch 850 loss 0.1005\n",
      "Epoch 2 batch 900 loss 0.0580\n",
      "Epoch 3 batch 0 loss 0.3244\n",
      "Epoch 3 batch 50 loss 0.2980\n",
      "Epoch 3 batch 100 loss 0.2002\n",
      "Epoch 3 batch 150 loss 0.3134\n",
      "Epoch 3 batch 200 loss 0.2132\n",
      "Epoch 3 batch 250 loss 0.0945\n",
      "Epoch 3 batch 300 loss 0.1318\n",
      "Epoch 3 batch 350 loss 0.1455\n",
      "Epoch 3 batch 400 loss 0.2536\n",
      "Epoch 3 batch 450 loss 0.1411\n",
      "Epoch 3 batch 500 loss 0.0573\n",
      "Epoch 3 batch 550 loss 0.0308\n",
      "Epoch 3 batch 600 loss 0.3591\n",
      "Epoch 3 batch 650 loss 0.1381\n",
      "Epoch 3 batch 700 loss 0.3044\n",
      "Epoch 3 batch 750 loss 0.0409\n",
      "Epoch 3 batch 800 loss 0.0282\n",
      "Epoch 3 batch 850 loss 0.1139\n",
      "Epoch 3 batch 900 loss 0.1744\n",
      "Test Error: \n",
      " Accuracy: 96.8%, Avg loss: 0.111117 \n",
      "\n",
      "Test Error: \n",
      " Accuracy: 96.2%, Avg loss: 0.128011 \n",
      "\n"
     ]
    }
   ],
   "source": [
    "# Init the model\n",
    "modelNN = NN(input_size=input_size, num_classes=num_classes).to(device)\n",
    "# Train the model\n",
    "history = train(train_loader, modelNN, num_epochs, loss_fn, learning_rate)\n",
    "# Test the model\n",
    "test(train_loader, modelNN, loss_fn)\n",
    "test(test_loader, modelNN, loss_fn)"
   ]
  },
  {
   "cell_type": "code",
   "execution_count": 197,
   "metadata": {},
   "outputs": [
    {
     "name": "stdout",
     "output_type": "stream",
     "text": [
      "Epoch 0 batch 0 loss 2.3071\n",
      "Epoch 0 batch 50 loss 1.5394\n",
      "Epoch 0 batch 100 loss 0.5529\n",
      "Epoch 0 batch 150 loss 0.4190\n",
      "Epoch 0 batch 200 loss 0.4502\n",
      "Epoch 0 batch 250 loss 0.3449\n",
      "Epoch 0 batch 300 loss 0.4720\n",
      "Epoch 0 batch 350 loss 0.3061\n",
      "Epoch 0 batch 400 loss 0.1947\n",
      "Epoch 0 batch 450 loss 0.1433\n",
      "Epoch 0 batch 500 loss 0.1132\n",
      "Epoch 0 batch 550 loss 0.1636\n",
      "Epoch 0 batch 600 loss 0.1167\n",
      "Epoch 0 batch 650 loss 0.0961\n",
      "Epoch 0 batch 700 loss 0.0881\n",
      "Epoch 0 batch 750 loss 0.1687\n",
      "Epoch 0 batch 800 loss 0.1094\n",
      "Epoch 0 batch 850 loss 0.1835\n",
      "Epoch 0 batch 900 loss 0.0348\n",
      "Test Error: \n",
      " Accuracy: 96.5%, Avg loss: 0.118504 \n",
      "\n",
      "Test Error: \n",
      " Accuracy: 96.8%, Avg loss: 0.106373 \n",
      "\n"
     ]
    }
   ],
   "source": [
    "modelCNN = CNN(in_channels=in_channels, num_classes=num_classes).to(device)\n",
    "history = train(train_loader, modelCNN, num_epochs, loss_fn, learning_rate)\n",
    "test(train_loader, modelCNN, loss_fn)\n",
    "test(test_loader, modelCNN, loss_fn)"
   ]
  },
  {
   "cell_type": "code",
   "execution_count": 198,
   "metadata": {},
   "outputs": [
    {
     "data": {
      "text/plain": [
       "[<matplotlib.lines.Line2D at 0x7f5f6b61fbb0>]"
      ]
     },
     "execution_count": 198,
     "metadata": {},
     "output_type": "execute_result"
    },
    {
     "data": {
      "image/png": "[encoded data removed]",
      "text/plain": [
       "<Figure size 640x480 with 1 Axes>"
      ]
     },
     "metadata": {},
     "output_type": "display_data"
    }
   ],
   "source": [
    "import matplotlib.pyplot as plt\n",
    "plt.plot(history)"
   ]
  },
  {
   "attachments": {},
   "cell_type": "markdown",
   "metadata": {},
   "source": [
    "# load model from a checkpoint"
   ]
  },
  {
   "cell_type": "code",
   "execution_count": 14,
   "metadata": {},
   "outputs": [
    {
     "name": "stdout",
     "output_type": "stream",
     "text": [
      "Test Error: \n",
      " Accuracy: 94.7%, Avg loss: 0.183153 \n",
      "\n"
     ]
    }
   ],
   "source": [
    "model = NN(input_size=input_size, num_classes=num_classes).to(device)\n",
    "optimizer = optim.Adam(model.parameters(), lr = learning_rate)\n",
    "\n",
    "\n",
    "checkpoint = torch.load(\"checkpoint.pth\")\n",
    "model.load_state_dict(checkpoint[\"model\"])\n",
    "optimizer.load_state_dict(checkpoint[\"optimizer\"])\n",
    "\n",
    "test(test_loader, model, loss_fn)"
   ]
  }
 ],
 "metadata": {
  "kernelspec": {
   "display_name": "pytor",
   "language": "python",
   "name": "python3"
  },
  "language_info": {
   "codemirror_mode": {
    "name": "ipython",
    "version": 3
   },
   "file_extension": ".py",
   "mimetype": "text/x-python",
   "name": "python",
   "nbconvert_exporter": "python",
   "pygments_lexer": "ipython3",
   "version": "3.10.9"
  },
  "orig_nbformat": 4,
  "vscode": {
   "interpreter": {
    "hash": "da558834fe1f1fe6a302970942de2fa335c2c32197b357720dc1426ec8aea207"
   }
  }
 },
 "nbformat": 4,
 "nbformat_minor": 2
}
