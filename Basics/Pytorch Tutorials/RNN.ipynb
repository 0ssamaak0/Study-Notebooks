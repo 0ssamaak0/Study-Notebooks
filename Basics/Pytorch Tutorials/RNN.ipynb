{
 "cells": [
  {
   "cell_type": "code",
   "execution_count": 7,
   "metadata": {},
   "outputs": [],
   "source": [
    "import torch\n",
    "import torch.nn as nn\n",
    "import torch.nn.functional as F\n",
    "import torch.optim as optim\n",
    "from torch.utils.data import DataLoader\n",
    "from torchvision import datasets, transforms\n",
    "\n",
    "device = torch.device('cuda' if torch.cuda.is_available() else 'cpu')"
   ]
  },
  {
   "cell_type": "code",
   "execution_count": 8,
   "metadata": {},
   "outputs": [],
   "source": [
    "batch_size = 64\n",
    "\n",
    "train_dataset = datasets.MNIST(root = \"dataset/\", train = True, transform=transforms.ToTensor(), download= True)\n",
    "train_loader = DataLoader(dataset = train_dataset, batch_size= batch_size, shuffle= True)\n",
    "\n",
    "test_dataset = datasets.MNIST(root = \"dataset/\", train = False, transform=transforms.ToTensor(), download= True)\n",
    "test_loader = DataLoader(dataset = test_dataset, batch_size= batch_size, shuffle= True)"
   ]
  },
  {
   "attachments": {},
   "cell_type": "markdown",
   "metadata": {},
   "source": [
    "# Hyperparameters\n",
    "mnist : Nx1x28x28 ➡️ 28 sequences with 28 features each"
   ]
  },
  {
   "cell_type": "code",
   "execution_count": 9,
   "metadata": {},
   "outputs": [],
   "source": [
    "# features\n",
    "input_size = 28\n",
    "sequence_length = 28\n",
    "num_layers = 2\n",
    "# #nodes in each time step\n",
    "hidden_size = 256\n",
    "num_classes = 10\n",
    "batch_size = 64\n",
    "num_epochs = 2\n",
    "learning_rate = 0.001\n",
    "\n",
    "loss_fn = nn.CrossEntropyLoss()\n"
   ]
  },
  {
   "attachments": {},
   "cell_type": "markdown",
   "metadata": {},
   "source": [
    "# RNN (or GRU or LSTM)"
   ]
  },
  {
   "cell_type": "code",
   "execution_count": 32,
   "metadata": {},
   "outputs": [
    {
     "name": "stdout",
     "output_type": "stream",
     "text": [
      "before torch.Size([64, 28, 256])\n",
      "after torch.Size([64, 7168])\n",
      "torch.Size([64, 10])\n"
     ]
    }
   ],
   "source": [
    "class RNN(nn.Module):\n",
    "    def __init__(self, input_size, hidden_size, num_layers, num_classes):\n",
    "        super(RNN, self).__init__()\n",
    "        self.hidden_size = hidden_size\n",
    "        self.num_layers = num_layers\n",
    "        self.rnn = nn.RNN(input_size, hidden_size, num_layers, batch_first=True)\n",
    "        self.lstm = nn.LSTM(input_size, hidden_size, num_layers, batch_first=True)\n",
    "        self.fc = nn.Linear(hidden_size * sequence_length, num_classes)\n",
    "\n",
    "    def forward(self, x):\n",
    "        # initial hidden state\n",
    "        h0 = torch.zeros(self.num_layers, x.size(0), self.hidden_size).to(device)\n",
    "        # initial cell state for LSTM\n",
    "        c0 = torch.zeros(self.num_layers, x.size(0), self.hidden_size).to(device)\n",
    "        # _ is the hidden state\n",
    "        # out, _ = self.rnn(x, h0)\n",
    "        out, _ = self.lstm(x, (h0, c0))\n",
    "        # keep the batch and concatenate else\n",
    "        out = out.reshape(out.shape[0], -1)\n",
    "        out = self.fc(out)\n",
    "        return out\n",
    "\n",
    "model = RNN(input_size, hidden_size, num_layers, num_classes).to(device)\n",
    "x = torch.randn(batch_size, sequence_length, input_size).to(device)\n",
    "print(model(x).shape)\n"
   ]
  },
  {
   "cell_type": "markdown",
   "metadata": {},
   "source": [
    "# BRNN"
   ]
  },
  {
   "cell_type": "code",
   "execution_count": 43,
   "metadata": {},
   "outputs": [
    {
     "name": "stdout",
     "output_type": "stream",
     "text": [
      "torch.Size([64, 28, 512])\n",
      "torch.Size([64, 10])\n",
      "torch.Size([64, 10])\n"
     ]
    }
   ],
   "source": [
    "class BRNN(nn.Module):\n",
    "    def __init__(self, input_size, hidden_size, num_layers, num_classes):\n",
    "        super(BRNN, self).__init__()\n",
    "        self.hidden_size = hidden_size\n",
    "        self.num_layers = num_layers\n",
    "        self.rnn = nn.RNN(input_size, hidden_size, num_layers, batch_first=True, bidirectional=True)\n",
    "        self.lstm = nn.LSTM(input_size, hidden_size, num_layers, batch_first=True, bidirectional=True)\n",
    "        # multiply by 2 for bidirectional\n",
    "        self.fc = nn.Linear(hidden_size * 2, num_classes)\n",
    "\n",
    "    def forward(self, x):\n",
    "        # initial hidden state (multiply by 2 for bidirectional)\n",
    "        h0 = torch.zeros(self.num_layers * 2, x.size(0), self.hidden_size).to(device)\n",
    "        # initial cell state for LSTM (multiply by 2 for bidirectional)\n",
    "        c0 = torch.zeros(self.num_layers * 2, x.size(0), self.hidden_size).to(device)\n",
    "        # _ is the hidden state\n",
    "        # out, _ = self.rnn(x, h0)\n",
    "        out, _ = self.lstm(x, (h0, c0))\n",
    "        # keep the batch and concatenate else\n",
    "        # out = out.reshape(out.shape[0], -1)\n",
    "        print(out.shape)\n",
    "        out = self.fc(out[:, -1, :])\n",
    "        print(out.shape)\n",
    "        return out\n",
    "\n",
    "model = BRNN(input_size, hidden_size, num_layers, num_classes).to(device)\n",
    "x = torch.randn(batch_size, sequence_length, input_size).to(device)\n",
    "print(model(x).shape)"
   ]
  },
  {
   "cell_type": "markdown",
   "metadata": {},
   "source": [
    "# Train and Test Functions"
   ]
  },
  {
   "cell_type": "code",
   "execution_count": 12,
   "metadata": {},
   "outputs": [],
   "source": [
    "def train(dataloader, model, num_epochs, loss_fn, learning_rate):\n",
    "    \n",
    "    # optimizer\n",
    "    optimizer = optim.Adam(model.parameters(), lr = learning_rate)\n",
    "\n",
    "    losses = []\n",
    "    for epoch in range(num_epochs):\n",
    "        for batch, (X, y )in enumerate(dataloader):\n",
    "            # to cuda\n",
    "            X = X.to(device = device).squeeze(1)\n",
    "            y = y.to(device = device)\n",
    "\n",
    "            # forward\n",
    "            pred = model(X)\n",
    "            loss = loss_fn(pred, y)\n",
    "\n",
    "            # Backpropagation\n",
    "            # set all gradients to zero on each batch\n",
    "            optimizer.zero_grad()\n",
    "            loss.backward()\n",
    "            # gradient descent or adam step\n",
    "            optimizer.step()\n",
    "\n",
    "            losses.append(loss.item())\n",
    "\n",
    "            if batch % 50 == 0:\n",
    "                print(f\"Epoch {epoch} batch {batch} loss {losses[-1]:.4f}\")\n",
    "            \n",
    "    return losses"
   ]
  },
  {
   "cell_type": "code",
   "execution_count": 13,
   "metadata": {},
   "outputs": [],
   "source": [
    "def test(dataloader, model, loss_fn):\n",
    "    \n",
    "    size = len(dataloader.dataset)\n",
    "    num_batches = len(dataloader)\n",
    "\n",
    "    model.eval()\n",
    "    test_loss, correct = 0, 0\n",
    "\n",
    "    with torch.no_grad():\n",
    "        for X, y in dataloader:\n",
    "\n",
    "            X = X.to(device).squeeze(1)\n",
    "            y = y.to(device)\n",
    "\n",
    "            pred = model(X)\n",
    "            test_loss += loss_fn(pred, y).item()\n",
    "\n",
    "            correct += (pred.argmax(1) == y).type(torch.float).sum().item()\n",
    "\n",
    "    test_loss /= num_batches\n",
    "    correct /= size\n",
    "    \n",
    "    print(f\"Test Error: \\n Accuracy: {(100*correct):>0.1f}%, Avg loss: {test_loss:>8f} \\n\")"
   ]
  },
  {
   "cell_type": "code",
   "execution_count": 14,
   "metadata": {},
   "outputs": [
    {
     "name": "stdout",
     "output_type": "stream",
     "text": [
      "torch.Size([3, 2, 1, 4, 2, 1])\n",
      "torch.Size([3, 2, 4, 2, 1])\n"
     ]
    }
   ],
   "source": [
    "alpha = torch.randn((3,2,1,4,2,1))\n",
    "print(alpha.shape)\n",
    "alpha = alpha.squeeze(2)\n",
    "print(alpha.shape)"
   ]
  },
  {
   "cell_type": "code",
   "execution_count": 38,
   "metadata": {},
   "outputs": [],
   "source": [
    "modelRNN = RNN(input_size, hidden_size, num_layers, num_classes).to(device)\n",
    "# Train the model\n",
    "history = train(train_loader, modelRNN, num_epochs, loss_fn, learning_rate)\n",
    "# Test the model\n",
    "test(train_loader, modelRNN, loss_fn)\n",
    "test(test_loader, modelRNN, loss_fn)"
   ]
  },
  {
   "cell_type": "code",
   "execution_count": 42,
   "metadata": {},
   "outputs": [
    {
     "name": "stdout",
     "output_type": "stream",
     "text": [
      "Epoch 0 batch 0 loss 2.3115\n",
      "Epoch 0 batch 50 loss 1.3887\n",
      "Epoch 0 batch 100 loss 0.9739\n",
      "Epoch 0 batch 150 loss 0.5187\n",
      "Epoch 0 batch 200 loss 0.8073\n",
      "Epoch 0 batch 250 loss 0.3293\n",
      "Epoch 0 batch 300 loss 0.4694\n",
      "Epoch 0 batch 350 loss 0.3742\n",
      "Epoch 0 batch 400 loss 0.3503\n",
      "Epoch 0 batch 450 loss 0.4475\n",
      "Epoch 0 batch 500 loss 0.2085\n",
      "Epoch 0 batch 550 loss 0.2572\n",
      "Epoch 0 batch 600 loss 0.3773\n",
      "Epoch 0 batch 650 loss 0.0615\n",
      "Epoch 0 batch 700 loss 0.0900\n",
      "Epoch 0 batch 750 loss 0.1113\n",
      "Epoch 0 batch 800 loss 0.0798\n",
      "Epoch 0 batch 850 loss 0.1928\n",
      "Epoch 0 batch 900 loss 0.1801\n",
      "Epoch 1 batch 0 loss 0.3189\n",
      "Epoch 1 batch 50 loss 0.1912\n",
      "Epoch 1 batch 100 loss 0.0282\n",
      "Epoch 1 batch 150 loss 0.0743\n",
      "Epoch 1 batch 200 loss 0.0736\n",
      "Epoch 1 batch 250 loss 0.1415\n",
      "Epoch 1 batch 300 loss 0.1539\n",
      "Epoch 1 batch 350 loss 0.2108\n",
      "Epoch 1 batch 400 loss 0.1859\n",
      "Epoch 1 batch 450 loss 0.1486\n",
      "Epoch 1 batch 500 loss 0.0213\n",
      "Epoch 1 batch 550 loss 0.0472\n",
      "Epoch 1 batch 600 loss 0.0660\n",
      "Epoch 1 batch 650 loss 0.0954\n",
      "Epoch 1 batch 700 loss 0.0806\n",
      "Epoch 1 batch 750 loss 0.0486\n",
      "Epoch 1 batch 800 loss 0.0232\n",
      "Epoch 1 batch 850 loss 0.2127\n",
      "Epoch 1 batch 900 loss 0.1714\n",
      "Test Error: \n",
      " Accuracy: 98.0%, Avg loss: 0.067813 \n",
      "\n",
      "Test Error: \n",
      " Accuracy: 97.9%, Avg loss: 0.074644 \n",
      "\n"
     ]
    }
   ],
   "source": [
    "modelBRNN = BRNN(input_size, hidden_size, num_layers, num_classes).to(device)\n",
    "# Train the model\n",
    "history = train(train_loader, modelBRNN, num_epochs, loss_fn, learning_rate)\n",
    "# Test the model\n",
    "test(train_loader, modelBRNN, loss_fn)\n",
    "test(test_loader, modelBRNN, loss_fn)"
   ]
  },
  {
   "cell_type": "code",
   "execution_count": null,
   "metadata": {},
   "outputs": [],
   "source": []
  }
 ],
 "metadata": {
  "kernelspec": {
   "display_name": "pytor",
   "language": "python",
   "name": "python3"
  },
  "language_info": {
   "codemirror_mode": {
    "name": "ipython",
    "version": 3
   },
   "file_extension": ".py",
   "mimetype": "text/x-python",
   "name": "python",
   "nbconvert_exporter": "python",
   "pygments_lexer": "ipython3",
   "version": "3.10.9"
  },
  "orig_nbformat": 4,
  "vscode": {
   "interpreter": {
    "hash": "da558834fe1f1fe6a302970942de2fa335c2c32197b357720dc1426ec8aea207"
   }
  }
 },
 "nbformat": 4,
 "nbformat_minor": 2
}
