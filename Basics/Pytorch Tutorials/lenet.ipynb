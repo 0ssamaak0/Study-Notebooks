{
 "cells": [
  {
   "cell_type": "code",
   "execution_count": 1,
   "metadata": {},
   "outputs": [],
   "source": [
    "import torch\n",
    "import torch.nn as nn\n",
    "import torch.nn.functional as F\n",
    "import torch.optim as optim\n",
    "from torchvision import datasets, transforms\n",
    "from torch.utils.data import DataLoader"
   ]
  },
  {
   "cell_type": "code",
   "execution_count": 2,
   "metadata": {},
   "outputs": [],
   "source": [
    "class LeNet(nn.Module):\n",
    "    def __init__(self):\n",
    "        super(LeNet, self).__init__()\n",
    "        self.relu = nn.ReLU()\n",
    "        self.pool = nn.AvgPool2d(kernel_size=(2,2), stride=(2,2))\n",
    "        self.conv1 = nn.Conv2d(in_channels=1, out_channels=6, kernel_size=(5,5), stride=(1,1), padding=(0,0))\n",
    "        self.conv2 = nn.Conv2d(in_channels=6, out_channels=16, kernel_size=(5,5), stride=(1,1), padding=(0,0))\n",
    "        self.conv3 = nn.Conv2d(in_channels=16, out_channels=120, kernel_size=(5,5), stride=(1,1), padding=(0,0))\n",
    "        self.linear1 = nn.Linear(in_features=120, out_features=84)\n",
    "        self.linear2 = nn.Linear(in_features=84, out_features=10)\n",
    "        self.softmax = nn.Softmax(dim=1)\n",
    "\n",
    "    def forward(self, x):\n",
    "        x = self.conv1(x)\n",
    "        x = self.relu(x)\n",
    "        x = self.pool(x)\n",
    "        x = self.conv2(x)\n",
    "        x = self.relu(x)\n",
    "        x = self.pool(x)\n",
    "        x = self.conv3(x)\n",
    "        x = self.relu(x)\n",
    "        # flatten\n",
    "        x = x.reshape(x.shape[0], -1)\n",
    "        x = self.linear1(x)\n",
    "        x = self.relu(x)\n",
    "        x = self.linear2(x)\n",
    "        x = self.softmax(x)\n",
    "\n",
    "        return x"
   ]
  },
  {
   "cell_type": "code",
   "execution_count": 3,
   "metadata": {},
   "outputs": [
    {
     "name": "stdout",
     "output_type": "stream",
     "text": [
      "torch.Size([64, 10])\n"
     ]
    }
   ],
   "source": [
    "x = torch.randn(64, 1, 32, 32)\n",
    "model = LeNet()\n",
    "print(model(x).shape)"
   ]
  },
  {
   "cell_type": "code",
   "execution_count": 10,
   "metadata": {},
   "outputs": [],
   "source": [
    "# pad the input with 2 pixels on each side using transform.Pad\n",
    "# and then apply transform.RandomCrop to crop the image to 32x32\n",
    "my_transforms = transforms.Compose([\n",
    "    transforms.Pad(2),\n",
    "    transforms.ToTensor(),\n",
    "])"
   ]
  },
  {
   "cell_type": "code",
   "execution_count": 11,
   "metadata": {},
   "outputs": [],
   "source": [
    "batch_size = 64\n",
    "\n",
    "train_dataset = datasets.MNIST(root = \"dataset/\", train = True, transform=my_transforms, download= True)\n",
    "train_loader = DataLoader(dataset = train_dataset, batch_size= batch_size, shuffle= True)\n",
    "\n",
    "test_dataset = datasets.MNIST(root = \"dataset/\", train = False, transform=my_transforms, download= True)\n",
    "test_loader = DataLoader(dataset = test_dataset, batch_size= batch_size, shuffle= True)"
   ]
  },
  {
   "cell_type": "code",
   "execution_count": 14,
   "metadata": {},
   "outputs": [],
   "source": [
    "device = torch.device(\"cuda\" if torch.cuda.is_available() else \"cpu\")\n",
    "def train(dataloader, model, num_epochs, loss_fn, learning_rate):\n",
    "    \n",
    "    # optimizer\n",
    "    optimizer = optim.Adam(model.parameters(), lr = learning_rate)\n",
    "\n",
    "    losses = []\n",
    "\n",
    "    # save model\n",
    "    for epoch in range(num_epochs):\n",
    "        checkpoint = {\"model\": model.state_dict(), \"optimizer\": optimizer.state_dict()}\n",
    "\n",
    "        if epoch == 2:\n",
    "            torch.save(checkpoint, \"checkpoint.pth\")\n",
    "            print(f\"saved model at epoch {epoch}\")\n",
    "            \n",
    "        for batch, (X, y )in enumerate(dataloader):\n",
    "            # to cuda\n",
    "            X = X.to(device = device)\n",
    "            y = y.to(device = device)\n",
    "\n",
    "            # forward\n",
    "            pred = model(X)\n",
    "            loss = loss_fn(pred, y)\n",
    "\n",
    "            # Backpropagation\n",
    "            # set all gradients to zero on each batch\n",
    "            optimizer.zero_grad()\n",
    "            loss.backward()\n",
    "            # gradient descent or adam step\n",
    "            optimizer.step()\n",
    "\n",
    "            losses.append(loss.item())\n",
    "\n",
    "            if batch % 50 == 0:\n",
    "                print(f\"Epoch {epoch} batch {batch} loss {losses[-1]:.4f}\")\n",
    "            \n",
    "    return losses\n",
    "\n",
    "def test(dataloader, model, loss_fn):\n",
    "    \n",
    "    size = len(dataloader.dataset)\n",
    "    num_batches = len(dataloader)\n",
    "\n",
    "    model.eval()\n",
    "    test_loss, correct = 0, 0\n",
    "\n",
    "    with torch.no_grad():\n",
    "        for X, y in dataloader:\n",
    "\n",
    "            X = X.to(device)\n",
    "            y = y.to(device)\n",
    "\n",
    "            pred = model(X)\n",
    "            test_loss += loss_fn(pred, y).item()\n",
    "\n",
    "            correct += (pred.argmax(1) == y).type(torch.float).sum().item()\n",
    "\n",
    "    test_loss /= num_batches\n",
    "    correct /= size\n",
    "    \n",
    "    print(f\"Test Error: \\n Accuracy: {(100*correct):>0.1f}%, Avg loss: {test_loss:>8f} \\n\")"
   ]
  },
  {
   "cell_type": "code",
   "execution_count": 15,
   "metadata": {},
   "outputs": [
    {
     "name": "stdout",
     "output_type": "stream",
     "text": [
      "Epoch 0 batch 0 loss 2.3018\n",
      "Epoch 0 batch 50 loss 2.0693\n",
      "Epoch 0 batch 100 loss 1.7465\n",
      "Epoch 0 batch 150 loss 1.6969\n",
      "Epoch 0 batch 200 loss 1.5893\n",
      "Epoch 0 batch 250 loss 1.6695\n",
      "Epoch 0 batch 300 loss 1.6565\n",
      "Epoch 0 batch 350 loss 1.6689\n",
      "Epoch 0 batch 400 loss 1.6707\n",
      "Epoch 0 batch 450 loss 1.7171\n",
      "Epoch 0 batch 500 loss 1.6603\n",
      "Epoch 0 batch 550 loss 1.6222\n",
      "Epoch 0 batch 600 loss 1.5956\n",
      "Epoch 0 batch 650 loss 1.6307\n",
      "Epoch 0 batch 700 loss 1.5199\n",
      "Epoch 0 batch 750 loss 1.5724\n",
      "Epoch 0 batch 800 loss 1.5377\n",
      "Epoch 0 batch 850 loss 1.5001\n",
      "Epoch 0 batch 900 loss 1.4893\n",
      "Epoch 1 batch 0 loss 1.5289\n",
      "Epoch 1 batch 50 loss 1.5224\n",
      "Epoch 1 batch 100 loss 1.5232\n",
      "Epoch 1 batch 150 loss 1.5434\n",
      "Epoch 1 batch 200 loss 1.5135\n",
      "Epoch 1 batch 250 loss 1.5073\n",
      "Epoch 1 batch 300 loss 1.5727\n",
      "Epoch 1 batch 350 loss 1.5460\n",
      "Epoch 1 batch 400 loss 1.5387\n",
      "Epoch 1 batch 450 loss 1.5314\n",
      "Epoch 1 batch 500 loss 1.5876\n",
      "Epoch 1 batch 550 loss 1.4938\n",
      "Epoch 1 batch 600 loss 1.4616\n",
      "Epoch 1 batch 650 loss 1.5168\n",
      "Epoch 1 batch 700 loss 1.4844\n",
      "Epoch 1 batch 750 loss 1.5289\n",
      "Epoch 1 batch 800 loss 1.4772\n",
      "Epoch 1 batch 850 loss 1.5541\n",
      "Epoch 1 batch 900 loss 1.5373\n",
      "saved model at epoch 2\n",
      "Epoch 2 batch 0 loss 1.5236\n",
      "Epoch 2 batch 50 loss 1.5202\n",
      "Epoch 2 batch 100 loss 1.5018\n",
      "Epoch 2 batch 150 loss 1.5121\n",
      "Epoch 2 batch 200 loss 1.4635\n",
      "Epoch 2 batch 250 loss 1.5340\n",
      "Epoch 2 batch 300 loss 1.5003\n",
      "Epoch 2 batch 350 loss 1.5166\n",
      "Epoch 2 batch 400 loss 1.5077\n",
      "Epoch 2 batch 450 loss 1.4911\n",
      "Epoch 2 batch 500 loss 1.4762\n",
      "Epoch 2 batch 550 loss 1.5282\n",
      "Epoch 2 batch 600 loss 1.5088\n",
      "Epoch 2 batch 650 loss 1.4981\n",
      "Epoch 2 batch 700 loss 1.4650\n",
      "Epoch 2 batch 750 loss 1.4859\n",
      "Epoch 2 batch 800 loss 1.4820\n",
      "Epoch 2 batch 850 loss 1.5062\n",
      "Epoch 2 batch 900 loss 1.4835\n",
      "Epoch 3 batch 0 loss 1.4964\n",
      "Epoch 3 batch 50 loss 1.4868\n",
      "Epoch 3 batch 100 loss 1.5091\n",
      "Epoch 3 batch 150 loss 1.5248\n",
      "Epoch 3 batch 200 loss 1.5029\n",
      "Epoch 3 batch 250 loss 1.5061\n",
      "Epoch 3 batch 300 loss 1.4921\n",
      "Epoch 3 batch 350 loss 1.4764\n",
      "Epoch 3 batch 400 loss 1.5039\n",
      "Epoch 3 batch 450 loss 1.5133\n",
      "Epoch 3 batch 500 loss 1.4768\n",
      "Epoch 3 batch 550 loss 1.4912\n",
      "Epoch 3 batch 600 loss 1.4777\n",
      "Epoch 3 batch 650 loss 1.4649\n",
      "Epoch 3 batch 700 loss 1.4612\n",
      "Epoch 3 batch 750 loss 1.4888\n",
      "Epoch 3 batch 800 loss 1.4990\n",
      "Epoch 3 batch 850 loss 1.4742\n",
      "Epoch 3 batch 900 loss 1.5038\n",
      "Epoch 4 batch 0 loss 1.5255\n",
      "Epoch 4 batch 50 loss 1.4982\n",
      "Epoch 4 batch 100 loss 1.4714\n",
      "Epoch 4 batch 150 loss 1.4919\n",
      "Epoch 4 batch 200 loss 1.4694\n",
      "Epoch 4 batch 250 loss 1.5030\n",
      "Epoch 4 batch 300 loss 1.4727\n",
      "Epoch 4 batch 350 loss 1.4793\n",
      "Epoch 4 batch 400 loss 1.4632\n",
      "Epoch 4 batch 450 loss 1.4612\n",
      "Epoch 4 batch 500 loss 1.4863\n",
      "Epoch 4 batch 550 loss 1.4867\n",
      "Epoch 4 batch 600 loss 1.4766\n",
      "Epoch 4 batch 650 loss 1.4637\n",
      "Epoch 4 batch 700 loss 1.5160\n",
      "Epoch 4 batch 750 loss 1.4869\n",
      "Epoch 4 batch 800 loss 1.4809\n",
      "Epoch 4 batch 850 loss 1.4902\n",
      "Epoch 4 batch 900 loss 1.5296\n",
      "Test Error: \n",
      " Accuracy: 97.6%, Avg loss: 1.486202 \n",
      "\n"
     ]
    }
   ],
   "source": [
    "modelLeNet = LeNet()\n",
    "modelLeNet.to(device)\n",
    "loss_fn = nn.CrossEntropyLoss()\n",
    "learning_rate = 4e-3\n",
    "num_epochs = 3\n",
    "\n",
    "losses = train(train_loader, modelLeNet, num_epochs, loss_fn, learning_rate)"
   ]
  },
  {
   "cell_type": "code",
   "execution_count": 18,
   "metadata": {},
   "outputs": [
    {
     "data": {
      "text/plain": [
       "[<matplotlib.lines.Line2D at 0x7fb47b825960>]"
      ]
     },
     "execution_count": 18,
     "metadata": {},
     "output_type": "execute_result"
    },
    {
     "data": {
      "image/png": "[encoded data removed]",
      "text/plain": [
       "<Figure size 640x480 with 1 Axes>"
      ]
     },
     "metadata": {},
     "output_type": "display_data"
    }
   ],
   "source": [
    "import matplotlib.pyplot as plt\n",
    "plt.plot(losses)"
   ]
  },
  {
   "cell_type": "code",
   "execution_count": 16,
   "metadata": {},
   "outputs": [
    {
     "name": "stdout",
     "output_type": "stream",
     "text": [
      "Test Error: \n",
      " Accuracy: 97.7%, Avg loss: 1.485141 \n",
      "\n",
      "Test Error: \n",
      " Accuracy: 97.6%, Avg loss: 1.485563 \n",
      "\n"
     ]
    }
   ],
   "source": [
    "test(train_loader, modelLeNet, loss_fn)\n",
    "test(test_loader, modelLeNet, loss_fn)"
   ]
  }
 ],
 "metadata": {
  "kernelspec": {
   "display_name": "pytor",
   "language": "python",
   "name": "python3"
  },
  "language_info": {
   "codemirror_mode": {
    "name": "ipython",
    "version": 3
   },
   "file_extension": ".py",
   "mimetype": "text/x-python",
   "name": "python",
   "nbconvert_exporter": "python",
   "pygments_lexer": "ipython3",
   "version": "3.10.9"
  },
  "orig_nbformat": 4,
  "vscode": {
   "interpreter": {
    "hash": "da558834fe1f1fe6a302970942de2fa335c2c32197b357720dc1426ec8aea207"
   }
  }
 },
 "nbformat": 4,
 "nbformat_minor": 2
}
