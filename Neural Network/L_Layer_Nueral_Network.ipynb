{
 "cells": [
  {
   "cell_type": "code",
   "execution_count": 1,
   "metadata": {},
   "outputs": [],
   "source": [
    "import numpy as np"
   ]
  },
  {
   "cell_type": "markdown",
   "metadata": {},
   "source": [
    "# Steps\n",
    "1. parameters initialization\n",
    "2. forward propagation\n",
    "3. cost computation\n",
    "4. backward propagation\n",
    "5. update parameters"
   ]
  },
  {
   "cell_type": "markdown",
   "metadata": {},
   "source": [
    "# Helper Functions"
   ]
  },
  {
   "cell_type": "code",
   "execution_count": 263,
   "metadata": {},
   "outputs": [],
   "source": [
    "def sigmoid(z):\n",
    "    return 1 / (1 + np.exp(-z))"
   ]
  },
  {
   "cell_type": "code",
   "execution_count": 264,
   "metadata": {},
   "outputs": [],
   "source": [
    "def relu(z):\n",
    "    return np.maximum(0, z)"
   ]
  },
  {
   "cell_type": "code",
   "execution_count": 265,
   "metadata": {},
   "outputs": [],
   "source": [
    "activations = {\"sigmoid\":sigmoid, \"relu\": relu}"
   ]
  },
  {
   "cell_type": "code",
   "execution_count": 266,
   "metadata": {},
   "outputs": [],
   "source": [
    "def sigmoid_prime(z):\n",
    "    return sigmoid(z) * (1 - sigmoid(z))"
   ]
  },
  {
   "cell_type": "code",
   "execution_count": 223,
   "metadata": {},
   "outputs": [],
   "source": [
    "def relu_prime(z):\n",
    "    z = np.copy(z)\n",
    "    z[z >= 0] = 1\n",
    "    return np.maximum(0, z)"
   ]
  },
  {
   "cell_type": "code",
   "execution_count": 267,
   "metadata": {},
   "outputs": [],
   "source": [
    "activations_prime = {\"sigmoid_prime\":sigmoid_prime, \"relu_prime\": relu_prime}"
   ]
  },
  {
   "cell_type": "markdown",
   "metadata": {},
   "source": [
    "# 1. parameters initialization"
   ]
  },
  {
   "cell_type": "code",
   "execution_count": 300,
   "metadata": {},
   "outputs": [],
   "source": [
    "def initialize_parameters(layers_dims):\n",
    "    parameters = {}\n",
    "    \n",
    "    for l in range(1,len(layers_dims)):\n",
    "        parameters[f\"W{l}\"] = np.random.randn(layers_dims[l], layers_dims[l - 1]) * 0.01\n",
    "        parameters[f\"b{l}\"] = np.zeros((layers_dims[l], 1))\n",
    "    \n",
    "    return parameters"
   ]
  },
  {
   "cell_type": "markdown",
   "metadata": {},
   "source": [
    "# 2. forward propagation"
   ]
  },
  {
   "cell_type": "code",
   "execution_count": 282,
   "metadata": {},
   "outputs": [],
   "source": [
    "def forward_propagation(X, parameters):\n",
    "    L = len(parameters) // 2\n",
    "\n",
    "    A = X\n",
    "    caches = []\n",
    "\n",
    "    # hidden layers\n",
    "    for l in range(1 , L):\n",
    "        A_prev = A\n",
    "        Z = (parameters[f\"W{l}\"] @ A_prev) + parameters[f\"b{l}\"]\n",
    "        caches.append((A_prev, parameters[f\"W{l}\"], parameters[f\"b{l}\"], Z))\n",
    "        A = activations[\"relu\"](Z)\n",
    "\n",
    "    # Layer L (output)\n",
    "    A_prev = A\n",
    "    Z = (parameters[f\"W{L}\"] @ A_prev) + parameters[f\"b{L}\"]\n",
    "    caches.append((A_prev, parameters[f\"W{L}\"], parameters[f\"b{L}\"], Z))\n",
    "    AL = activations[\"sigmoid\"](Z)\n",
    "\n",
    "    return AL, caches"
   ]
  },
  {
   "cell_type": "markdown",
   "metadata": {},
   "source": [
    "# 3. cost computation"
   ]
  },
  {
   "cell_type": "code",
   "execution_count": 283,
   "metadata": {},
   "outputs": [],
   "source": [
    "def compute_cost(AL, Y):\n",
    "    m = Y.shape[1]\n",
    "    return - (1 / m) * np.sum((np.log(AL) * Y) + (np.log(1 - AL) * (1 - Y)))"
   ]
  },
  {
   "cell_type": "markdown",
   "metadata": {},
   "source": [
    "# 4. backward propagation"
   ]
  },
  {
   "cell_type": "code",
   "execution_count": 284,
   "metadata": {},
   "outputs": [],
   "source": [
    "def backward_propagation(AL, Y, caches):\n",
    "    L = len(caches)\n",
    "\n",
    "    dAL = ((1 - Y) / (1 - AL)) - (Y / AL)\n",
    "    m = Y.shape[1]\n",
    "    grads = {}\n",
    "    \n",
    "    # Layer L (output)\n",
    "    current_cache = caches[L - 1]\n",
    "    A, W, Z = (current_cache[0], current_cache[1], current_cache[3])\n",
    "\n",
    "\n",
    "    dZL = dAL * activations_prime[\"sigmoid_prime\"](Z)\n",
    "    grads[f\"dA{L - 1}\"] = W.T @ dZL\n",
    "    grads[f\"dW{L}\"] = (1 / m) * (dZL @ A.T)\n",
    "    grads[f\"db{L}\" ] = (1 / m) * np.sum(dZL, axis = 1, keepdims = True)\n",
    "\n",
    "\n",
    "    # hidden layers\n",
    "    for l in reversed(range(L-1)):\n",
    "        current_cache = caches[l]\n",
    "        A, W, Z = (current_cache[0], current_cache[1], current_cache[3])\n",
    "\n",
    "\n",
    "        dZ = grads[f\"dA{l + 1}\"] * activations_prime[\"relu_prime\"](Z)\n",
    "        grads[f\"dA{l}\"] = W.T @ dZ\n",
    "        grads[f\"dW{l + 1}\"] = (1 / m) * (dZ @ A.T)\n",
    "        grads[f\"db{l + 1}\" ] = (1 / m) * np.sum(dZ, axis = 1, keepdims = True)\n",
    "\n",
    "    return grads\n"
   ]
  },
  {
   "cell_type": "markdown",
   "metadata": {},
   "source": [
    "# 5. update parameters"
   ]
  },
  {
   "cell_type": "code",
   "execution_count": 299,
   "metadata": {},
   "outputs": [],
   "source": [
    "def update_parameters(parameters, grads, learning_rate):\n",
    "    parameters = parameters.copy()\n",
    "    L = len(parameters) // 2\n",
    "\n",
    "    for l in range(L):\n",
    "        parameters[f\"W{l + 1}\"] = parameters[f\"W{l + 1}\"] - learning_rate * grads[f\"dW{l + 1}\"]\n",
    "        parameters[f\"b{l + 1}\"] = parameters[f\"b{l + 1}\"] - learning_rate * grads[f\"db{l + 1}\"]\n",
    "    \n",
    "    return parameters"
   ]
  },
  {
   "cell_type": "markdown",
   "metadata": {},
   "source": [
    "# Combining Step"
   ]
  },
  {
   "cell_type": "code",
   "execution_count": 301,
   "metadata": {},
   "outputs": [],
   "source": [
    "def neural_network(X, Y, layers_dims, learning_rate, num_iterations):\n",
    "    parameters = initialize_parameters(layers_dims)\n",
    "\n",
    "    for i in range(0, num_iterations):\n",
    "\n",
    "        AL, caches = forward_propagation(X, parameters)\n",
    "\n",
    "        cost = compute_cost(AL, Y)\n",
    "        print(f\"cost after iteration {i}: {cost}\")\n",
    "        \n",
    "        grades = backward_propagation(AL, Y, caches)\n",
    "\n",
    "        parameters = update_parameters(parameters, grades, learning_rate)\n",
    "    return parameters, cost"
   ]
  },
  {
   "cell_type": "code",
   "execution_count": null,
   "metadata": {},
   "outputs": [],
   "source": []
  }
 ],
 "metadata": {
  "kernelspec": {
   "display_name": "Python 3.8.10 64-bit",
   "language": "python",
   "name": "python3"
  },
  "language_info": {
   "codemirror_mode": {
    "name": "ipython",
    "version": 3
   },
   "file_extension": ".py",
   "mimetype": "text/x-python",
   "name": "python",
   "nbconvert_exporter": "python",
   "pygments_lexer": "ipython3",
   "version": "3.8.10"
  },
  "orig_nbformat": 4,
  "vscode": {
   "interpreter": {
    "hash": "916dbcbb3f70747c44a77c7bcd40155683ae19c65e1c03b4aa3499c5328201f1"
   }
  }
 },
 "nbformat": 4,
 "nbformat_minor": 2
}
