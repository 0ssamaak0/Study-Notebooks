{
 "cells": [
  {
   "cell_type": "markdown",
   "metadata": {},
   "source": [
    "[Following naklecha's repo](https://github.com/naklecha/llama3-from-scratch?tab=readme-ov-file)"
   ]
  },
  {
   "cell_type": "markdown",
   "metadata": {},
   "source": [
    "# Tokenizer"
   ]
  },
  {
   "cell_type": "code",
   "execution_count": 1,
   "metadata": {},
   "outputs": [
    {
     "data": {
      "text/plain": [
       "'hello world!'"
      ]
     },
     "execution_count": 1,
     "metadata": {},
     "output_type": "execute_result"
    }
   ],
   "source": [
    "from pathlib import Path\n",
    "import tiktoken\n",
    "from tiktoken.load import load_tiktoken_bpe\n",
    "import torch\n",
    "import json\n",
    "import matplotlib.pyplot as plt\n",
    "\n",
    "tokenizer_path = \"Meta-Llama3.1-8B/tokenizer.model\"\n",
    "special_tokens = [\n",
    "    \"<|begin_of_text|>\",\n",
    "    \"<|end_of_text|>\",\n",
    "    \"<|reserved_special_token_0|>\",\n",
    "    \"<|reserved_special_token_1|>\",\n",
    "    \"<|reserved_special_token_2|>\",\n",
    "    \"<|reserved_special_token_3|>\",\n",
    "    \"<|start_header_id|>\",\n",
    "    \"<|end_header_id|>\",\n",
    "    \"<|reserved_special_token_4|>\",\n",
    "    \"<|eot_id|>\",  # end of turn\n",
    "] + [f\"<|reserved_special_token_{i}|>\" for i in range(5, 256 - 5)]\n",
    "mergeable_ranks = load_tiktoken_bpe(tokenizer_path)\n",
    "tokenizer = tiktoken.Encoding(\n",
    "    name=Path(tokenizer_path).name,\n",
    "    pat_str=r\"(?i:'s|'t|'re|'ve|'m|'ll|'d)|[^\\r\\n\\p{L}\\p{N}]?\\p{L}+|\\p{N}{1,3}| ?[^\\s\\p{L}\\p{N}]+[\\r\\n]*|\\s*[\\r\\n]+|\\s+(?!\\S)|\\s+\",  # Regex for tokenization\n",
    "    mergeable_ranks=mergeable_ranks,\n",
    "    special_tokens={\n",
    "        token: len(mergeable_ranks) + i for i, token in enumerate(special_tokens)\n",
    "    },\n",
    ")\n",
    "\n",
    "tokenizer.decode(tokenizer.encode(\"hello world!\"))"
   ]
  },
  {
   "cell_type": "markdown",
   "metadata": {},
   "source": [
    "# Model File"
   ]
  },
  {
   "cell_type": "code",
   "execution_count": 2,
   "metadata": {},
   "outputs": [
    {
     "name": "stdout",
     "output_type": "stream",
     "text": [
      "[\n",
      "    \"tok_embeddings.weight\",\n",
      "    \"layers.0.attention.wq.weight\",\n",
      "    \"layers.0.attention.wk.weight\",\n",
      "    \"layers.0.attention.wv.weight\",\n",
      "    \"layers.0.attention.wo.weight\",\n",
      "    \"layers.0.feed_forward.w1.weight\",\n",
      "    \"layers.0.feed_forward.w3.weight\",\n",
      "    \"layers.0.feed_forward.w2.weight\",\n",
      "    \"layers.0.attention_norm.weight\",\n",
      "    \"layers.0.ffn_norm.weight\",\n",
      "    \"layers.1.attention.wq.weight\",\n",
      "    \"layers.1.attention.wk.weight\",\n",
      "    \"layers.1.attention.wv.weight\",\n",
      "    \"layers.1.attention.wo.weight\",\n",
      "    \"layers.1.feed_forward.w1.weight\",\n",
      "    \"layers.1.feed_forward.w3.weight\",\n",
      "    \"layers.1.feed_forward.w2.weight\",\n",
      "    \"layers.1.attention_norm.weight\",\n",
      "    \"layers.1.ffn_norm.weight\",\n",
      "    \"layers.2.attention.wq.weight\"\n",
      "]\n"
     ]
    }
   ],
   "source": [
    "device = (\n",
    "    \"mps\"\n",
    "    if torch.backends.mps.is_available()\n",
    "    else (\"cuda\" if torch.cuda.is_available() else \"cpu\")\n",
    ")\n",
    "model = torch.load(\"Meta-Llama3.1-8B/consolidated.00.pth\", map_location=device)\n",
    "print(json.dumps(list(model.keys())[:20], indent=4))"
   ]
  },
  {
   "cell_type": "code",
   "execution_count": 3,
   "metadata": {},
   "outputs": [
    {
     "data": {
      "text/plain": [
       "{'dim': 4096,\n",
       " 'ffn_dim_multiplier': 1.3,\n",
       " 'multiple_of': 1024,\n",
       " 'n_heads': 32,\n",
       " 'n_kv_heads': 8,\n",
       " 'n_layers': 32,\n",
       " 'norm_eps': 1e-05,\n",
       " 'rope_theta': 500000.0,\n",
       " 'use_scaled_rope': True,\n",
       " 'vocab_size': 128256}"
      ]
     },
     "execution_count": 3,
     "metadata": {},
     "output_type": "execute_result"
    }
   ],
   "source": [
    "with open(\"Meta-Llama3.1-8B/params.json\", \"r\") as f:\n",
    "    config = json.load(f)\n",
    "config"
   ]
  },
  {
   "cell_type": "code",
   "execution_count": 4,
   "metadata": {},
   "outputs": [],
   "source": [
    "dim = config[\"dim\"]\n",
    "n_layers = config[\"n_layers\"]\n",
    "n_heads = config[\"n_heads\"]\n",
    "n_kv_heads = config[\"n_kv_heads\"]\n",
    "vocab_size = config[\"vocab_size\"]\n",
    "multiple_of = config[\"multiple_of\"]\n",
    "ffn_dim_multiplier = config[\"ffn_dim_multiplier\"]\n",
    "norm_eps = config[\"norm_eps\"]\n",
    "rope_theta = torch.tensor(config[\"rope_theta\"])"
   ]
  },
  {
   "cell_type": "markdown",
   "metadata": {},
   "source": [
    "# Tokenization"
   ]
  },
  {
   "cell_type": "code",
   "execution_count": 5,
   "metadata": {},
   "outputs": [
    {
     "name": "stdout",
     "output_type": "stream",
     "text": [
      "[128000, 1820, 4320, 311, 279, 17139, 3488, 315, 2324, 11, 279, 15861, 11, 323, 4395, 374, 220]\n",
      "['<|begin_of_text|>', 'the', ' answer', ' to', ' the', ' ultimate', ' question', ' of', ' life', ',', ' the', ' universe', ',', ' and', ' everything', ' is', ' ']\n"
     ]
    }
   ],
   "source": [
    "prompt = \"the answer to the ultimate question of life, the universe, and everything is \"\n",
    "tokens = [128000] + tokenizer.encode(prompt)\n",
    "print(tokens)\n",
    "tokens = torch.tensor(tokens)\n",
    "prompt_split_as_tokens = [tokenizer.decode([token.item()]) for token in tokens]\n",
    "print(prompt_split_as_tokens)"
   ]
  },
  {
   "cell_type": "code",
   "execution_count": 6,
   "metadata": {},
   "outputs": [
    {
     "name": "stdout",
     "output_type": "stream",
     "text": [
      "[128000, 791, 4062, 14198, 39935, 35308, 927, 279, 16053, 5679, 323, 1243]\n",
      "['<|begin_of_text|>', 'The', ' quick', ' brown', ' fox', ' jumps', ' over', ' the', ' lazy', ' dog', ' and', ' then']\n",
      "length: 12\n"
     ]
    }
   ],
   "source": [
    "prompt = \"The quick brown fox jumps over the lazy dog and then\"\n",
    "tokens = [128000] + tokenizer.encode(prompt)\n",
    "print(tokens)\n",
    "tokens = torch.tensor(tokens)\n",
    "prompt_split_as_tokens = [tokenizer.decode([token.item()]) for token in tokens]\n",
    "print(prompt_split_as_tokens)\n",
    "print(f\"length: {len(tokens)}\")"
   ]
  },
  {
   "cell_type": "markdown",
   "metadata": {},
   "source": [
    "# Embedding"
   ]
  },
  {
   "cell_type": "code",
   "execution_count": 7,
   "metadata": {},
   "outputs": [
    {
     "data": {
      "text/plain": [
       "torch.Size([12, 4096])"
      ]
     },
     "execution_count": 7,
     "metadata": {},
     "output_type": "execute_result"
    }
   ],
   "source": [
    "embedding_layer = torch.nn.Embedding(vocab_size, embedding_dim=dim)\n",
    "embedding_layer.weight.data.copy_(model[\"tok_embeddings.weight\"])\n",
    "token_embeddings_unnormalized = embedding_layer(tokens).to(torch.bfloat16)\n",
    "token_embeddings_unnormalized.shape"
   ]
  },
  {
   "cell_type": "markdown",
   "metadata": {},
   "source": [
    "# RMS Norm"
   ]
  },
  {
   "cell_type": "code",
   "execution_count": 8,
   "metadata": {},
   "outputs": [],
   "source": [
    "def rms_norm(tensor, norm_weights):\n",
    "    variance = tensor.pow(2).mean(-1, keepdim=True)\n",
    "    hidden_states = tensor * torch.rsqrt(variance + norm_eps)\n",
    "    return hidden_states * norm_weights"
   ]
  },
  {
   "cell_type": "code",
   "execution_count": 9,
   "metadata": {},
   "outputs": [
    {
     "name": "stdout",
     "output_type": "stream",
     "text": [
      "torch.Size([12, 4096])\n"
     ]
    }
   ],
   "source": [
    "token_embeddings = rms_norm(\n",
    "    token_embeddings_unnormalized, model[\"layers.0.attention_norm.weight\"]\n",
    ")\n",
    "print(token_embeddings.shape)  # same shape as token_embeddings_unnormalized"
   ]
  },
  {
   "cell_type": "markdown",
   "metadata": {},
   "source": [
    "# Attention"
   ]
  },
  {
   "cell_type": "markdown",
   "metadata": {},
   "source": [
    "Note that `n_kv_heads` = `8` while `n_heads` = `32` ➡️ The dimension of query weight is `4 times` the dimension of key and value weights."
   ]
  },
  {
   "cell_type": "code",
   "execution_count": 10,
   "metadata": {},
   "outputs": [
    {
     "name": "stdout",
     "output_type": "stream",
     "text": [
      "Query: torch.Size([4096, 4096])\n",
      "Key: torch.Size([1024, 4096])\n",
      "Value: torch.Size([1024, 4096])\n",
      "Output: torch.Size([4096, 4096])\n"
     ]
    }
   ],
   "source": [
    "print(f\"Query: {model['layers.0.attention.wq.weight'].shape}\")\n",
    "print(f\"Key: {model['layers.0.attention.wk.weight'].shape}\")\n",
    "print(f\"Value: {model['layers.0.attention.wv.weight'].shape}\")\n",
    "print(f\"Output: {model['layers.0.attention.wo.weight'].shape}\")"
   ]
  },
  {
   "cell_type": "code",
   "execution_count": 11,
   "metadata": {},
   "outputs": [
    {
     "name": "stdout",
     "output_type": "stream",
     "text": [
      "Shape Before: torch.Size([4096, 4096])\n",
      "Head dim = 128\n",
      "Shape After: torch.Size([32, 128, 4096])\n"
     ]
    }
   ],
   "source": [
    "q_layer0 = model[\"layers.0.attention.wq.weight\"]\n",
    "print(f\"Shape Before: {q_layer0.shape}\")  # (dim, dim)\n",
    "head_dim = dim // n_heads\n",
    "print(f\"Head dim = {head_dim}\")\n",
    "q_layer0 = q_layer0.view(n_heads, head_dim, dim)\n",
    "print(f\"Shape After: {q_layer0.shape}\")  # (n_heads, head_dim, dim)"
   ]
  },
  {
   "cell_type": "code",
   "execution_count": 12,
   "metadata": {},
   "outputs": [
    {
     "name": "stdout",
     "output_type": "stream",
     "text": [
      "Shape of first head: torch.Size([128, 4096])\n"
     ]
    }
   ],
   "source": [
    "q_layer0_head0 = q_layer0[0]  # first head\n",
    "print(f\"Shape of first head: {q_layer0_head0.shape}\")  # (head_dim, dim)"
   ]
  },
  {
   "cell_type": "code",
   "execution_count": 13,
   "metadata": {},
   "outputs": [
    {
     "name": "stdout",
     "output_type": "stream",
     "text": [
      "Shape: torch.Size([12, 128])\n"
     ]
    }
   ],
   "source": [
    "# Multiply the query weight with token embeddings to get the query for the tokens\n",
    "q_per_token = token_embeddings @ q_layer0_head0.T\n",
    "print(f\"Shape: {q_per_token.shape}\")  # (seq_flen, head_dim)"
   ]
  },
  {
   "cell_type": "markdown",
   "metadata": {},
   "source": [
    "# Rotary Positional Embedding"
   ]
  },
  {
   "cell_type": "code",
   "execution_count": 14,
   "metadata": {},
   "outputs": [
    {
     "name": "stdout",
     "output_type": "stream",
     "text": [
      "Shape after splitting: torch.Size([12, 64, 2])\n"
     ]
    }
   ],
   "source": [
    "# split into head_dim // 2 pairs, each pair will by rotated by m * theta where m is the position\n",
    "q_per_token_split_into_pairs = q_per_token.float().view(q_per_token.shape[0], -1, 2)\n",
    "print(\n",
    "    f\"Shape after splitting: {q_per_token_split_into_pairs.shape}\"\n",
    ")  # (seq_len, head_dim // 2, 2)"
   ]
  },
  {
   "cell_type": "markdown",
   "metadata": {},
   "source": [
    "If `head_dim` = `d` =  `128` and `rope_theta` = `500000`, then $\\frac{d}{2}=64$\n",
    "\n",
    "To get\n",
    "$$\n",
    "\\theta_i = 500000^{-2i/d} = 500000^\\frac{-i}{d/2} = 500000^\\frac{-i}{128/2}\n",
    "$$\n",
    "\n",
    "\n",
    "We calculate `zero_to_one_split_into_64_parts` to get $\\frac{i}{d/2}$ such that\n",
    "\n",
    "$$\n",
    "\\left[0, \\frac{1}{64}, \\frac{2}{64}, \\ldots, \\frac{63}{64}\\right]\n",
    "$$\n",
    "\n",
    "Then, $\\text{freqs}$ will be calculated as:\n",
    "\n",
    "$$\n",
    "\\text{freqs} = \\left[1, \\left(\\frac{1}{500000}\\right)^{1/64}, \\left(\\frac{1}{500000}\\right)^{2/64}, \\ldots, \\left(\\frac{1}{500000}\\right)^{63/64}\\right]\n",
    "$$\n",
    "\n",
    "This produces a sequence of decreasing frequencies. The first pair of dimensions will rotate the `slowest` (frequency of 1), and subsequent pairs will rotate `faster` as their frequencies decrease."
   ]
  },
  {
   "cell_type": "code",
   "execution_count": 15,
   "metadata": {},
   "outputs": [
    {
     "name": "stdout",
     "output_type": "stream",
     "text": [
      "tensor([0.0000, 0.0156, 0.0312, 0.0469, 0.0625, 0.0781, 0.0938, 0.1094, 0.1250,\n",
      "        0.1406, 0.1562, 0.1719, 0.1875, 0.2031, 0.2188, 0.2344, 0.2500, 0.2656,\n",
      "        0.2812, 0.2969, 0.3125, 0.3281, 0.3438, 0.3594, 0.3750, 0.3906, 0.4062,\n",
      "        0.4219, 0.4375, 0.4531, 0.4688, 0.4844, 0.5000, 0.5156, 0.5312, 0.5469,\n",
      "        0.5625, 0.5781, 0.5938, 0.6094, 0.6250, 0.6406, 0.6562, 0.6719, 0.6875,\n",
      "        0.7031, 0.7188, 0.7344, 0.7500, 0.7656, 0.7812, 0.7969, 0.8125, 0.8281,\n",
      "        0.8438, 0.8594, 0.8750, 0.8906, 0.9062, 0.9219, 0.9375, 0.9531, 0.9688,\n",
      "        0.9844])\n",
      "tensor([1.0000e+00, 8.1462e-01, 6.6360e-01, 5.4058e-01, 4.4037e-01, 3.5873e-01,\n",
      "        2.9223e-01, 2.3805e-01, 1.9392e-01, 1.5797e-01, 1.2869e-01, 1.0483e-01,\n",
      "        8.5397e-02, 6.9566e-02, 5.6670e-02, 4.6164e-02, 3.7606e-02, 3.0635e-02,\n",
      "        2.4955e-02, 2.0329e-02, 1.6560e-02, 1.3490e-02, 1.0990e-02, 8.9523e-03,\n",
      "        7.2927e-03, 5.9407e-03, 4.8394e-03, 3.9423e-03, 3.2114e-03, 2.6161e-03,\n",
      "        2.1311e-03, 1.7360e-03, 1.4142e-03, 1.1520e-03, 9.3847e-04, 7.6450e-04,\n",
      "        6.2277e-04, 5.0732e-04, 4.1327e-04, 3.3666e-04, 2.7425e-04, 2.2341e-04,\n",
      "        1.8199e-04, 1.4825e-04, 1.2077e-04, 9.8381e-05, 8.0143e-05, 6.5286e-05,\n",
      "        5.3183e-05, 4.3324e-05, 3.5292e-05, 2.8750e-05, 2.3420e-05, 1.9078e-05,\n",
      "        1.5542e-05, 1.2660e-05, 1.0313e-05, 8.4015e-06, 6.8440e-06, 5.5752e-06,\n",
      "        4.5417e-06, 3.6997e-06, 3.0139e-06, 2.4551e-06])\n"
     ]
    }
   ],
   "source": [
    "zero_to_one_split_into_64_parts = torch.tensor(range(head_dim // 2)) / (\n",
    "    head_dim // 2\n",
    ")  # 0, 1/64, 2/64, ..., 63/64\n",
    "print(zero_to_one_split_into_64_parts)\n",
    "freqs = 1.0 / (\n",
    "    rope_theta**zero_to_one_split_into_64_parts\n",
    ")  # 1, 1 / theta ** (1/64), 1 / theta ** (2/64), ..., 1 / theta ** (63/64)\n",
    "print(freqs)"
   ]
  },
  {
   "cell_type": "code",
   "execution_count": 16,
   "metadata": {},
   "outputs": [
    {
     "name": "stdout",
     "output_type": "stream",
     "text": [
      "shape is : torch.Size([12, 64])\n"
     ]
    },
    {
     "data": {
      "image/png": "[encoded data removed]",
      "text/plain": [
       "<Figure size 640x480 with 1 Axes>"
      ]
     },
     "metadata": {},
     "output_type": "display_data"
    }
   ],
   "source": [
    "freqs_for_each_token = torch.outer(\n",
    "    torch.arange(q_per_token_split_into_pairs.shape[0]), freqs\n",
    ")  # Each element is the product of (2D Pair of tokens) * (the frequency)\n",
    "freqs_cis = torch.polar(torch.ones_like(freqs_for_each_token), freqs_for_each_token)\n",
    "print(f\"shape is : {freqs_cis.shape}\")  # Unit complex numbers\n",
    "\n",
    "# viewing the third row of freqs_cis\n",
    "value = freqs_cis[3]\n",
    "plt.figure()\n",
    "for i, element in enumerate(value[: q_per_token_split_into_pairs.shape[0]]):\n",
    "    plt.plot(\n",
    "        [0, element.real],\n",
    "        [0, element.imag],\n",
    "        color=\"blue\",\n",
    "        linewidth=1,\n",
    "        label=f\"Index: {i}\",\n",
    "    )\n",
    "    plt.annotate(f\"{i}\", xy=(element.real, element.imag), color=\"red\")\n",
    "plt.xlabel(\"Real\")\n",
    "plt.ylabel(\"Imaginary\")\n",
    "plt.title(\"Plot of one row of freqs_cis\")\n",
    "plt.show()"
   ]
  },
  {
   "cell_type": "markdown",
   "metadata": {},
   "source": [
    "## Apply on Queries"
   ]
  },
  {
   "cell_type": "code",
   "execution_count": 17,
   "metadata": {},
   "outputs": [
    {
     "name": "stdout",
     "output_type": "stream",
     "text": [
      "Shape of pairs (real): torch.Size([12, 64, 2])\n",
      "Shape of pairs (complex): torch.Size([12, 64])\n",
      "Shape of rotated pairs: torch.Size([12, 64])\n",
      "Shape of rotated pairs (real): torch.Size([12, 64, 2])\n",
      "Shape of rotated tokens: torch.Size([12, 128])\n"
     ]
    },
    {
     "data": {
      "text/plain": [
       "<matplotlib.legend.Legend at 0x7f5c51dd68c0>"
      ]
     },
     "execution_count": 17,
     "metadata": {},
     "output_type": "execute_result"
    },
    {
     "data": {
      "image/png": "[encoded data removed]",
      "text/plain": [
       "<Figure size 640x480 with 1 Axes>"
      ]
     },
     "metadata": {},
     "output_type": "display_data"
    }
   ],
   "source": [
    "print(f\"Shape of pairs (real): {q_per_token_split_into_pairs.shape}\")\n",
    "q_per_token_as_complex_numbers = torch.view_as_complex(\n",
    "    q_per_token_split_into_pairs\n",
    ")  # Convert each pair to a complex number\n",
    "print(f\"Shape of pairs (complex): {q_per_token_as_complex_numbers.shape}\")\n",
    "# Apply rotation\n",
    "q_per_token_as_complex_numbers_rotated = q_per_token_as_complex_numbers * freqs_cis\n",
    "print(f\"Shape of rotated pairs: {q_per_token_as_complex_numbers_rotated.shape}\")\n",
    "# Convert back to real numbers\n",
    "q_per_token_split_into_pairs_rotated = torch.view_as_real(\n",
    "    q_per_token_as_complex_numbers_rotated\n",
    ")\n",
    "print(f\"Shape of rotated pairs (real): {q_per_token_split_into_pairs_rotated.shape}\")\n",
    "# Reshape to original shape\n",
    "q_per_token_rotated = q_per_token_split_into_pairs_rotated.view(q_per_token.shape)\n",
    "print(f\"Shape of rotated tokens: {q_per_token_rotated.shape}\")\n",
    "\n",
    "token_idx = 2\n",
    "# plot the second token before and after rotation\n",
    "plt.figure()\n",
    "plt.plot(\n",
    "    [0, q_per_token_split_into_pairs[token_idx, 0, 0].detach().numpy()],\n",
    "    [0, q_per_token_split_into_pairs[token_idx, 0, 1].detach().numpy()],\n",
    "    color=\"blue\",\n",
    "    linewidth=1,\n",
    "    label=\"Before Rotation\",\n",
    ")\n",
    "plt.plot(\n",
    "    [0, q_per_token_split_into_pairs_rotated[token_idx, 0, 0].detach().numpy()],\n",
    "    [0, q_per_token_split_into_pairs_rotated[token_idx, 0, 1].detach().numpy()],\n",
    "    color=\"red\",\n",
    "    linewidth=1,\n",
    "    label=\"After Rotation\",\n",
    ")\n",
    "plt.legend()"
   ]
  },
  {
   "cell_type": "markdown",
   "metadata": {},
   "source": [
    "## Apply on Keys\n",
    "Note that number of kv heads is $\\frac{1}{4}$ number of heads."
   ]
  },
  {
   "cell_type": "code",
   "execution_count": 18,
   "metadata": {},
   "outputs": [
    {
     "name": "stdout",
     "output_type": "stream",
     "text": [
      "Shape before: torch.Size([1024, 4096])\n",
      "Shape after: torch.Size([8, 128, 4096])\n",
      "Shape of first head: torch.Size([128, 4096])\n",
      "Shape: torch.Size([12, 128])\n"
     ]
    }
   ],
   "source": [
    "k_layer0 = model[\"layers.0.attention.wk.weight\"]\n",
    "print(f\"Shape before: {k_layer0.shape}\")\n",
    "k_layer0 = k_layer0.view(n_kv_heads, k_layer0.shape[0] // n_kv_heads, dim)\n",
    "print(f\"Shape after: {k_layer0.shape}\")\n",
    "k_layer0_head0 = k_layer0[0]\n",
    "print(f\"Shape of first head: {k_layer0_head0.shape}\")\n",
    "k_per_token = token_embeddings @ k_layer0_head0.T\n",
    "print(f\"Shape: {k_per_token.shape}\")"
   ]
  },
  {
   "cell_type": "code",
   "execution_count": 19,
   "metadata": {},
   "outputs": [
    {
     "name": "stdout",
     "output_type": "stream",
     "text": [
      "Shape after splitting: torch.Size([12, 64, 2])\n",
      "Shape of pairs (complex): torch.Size([12, 64])\n",
      "Shape of rotated pairs: torch.Size([12, 64])\n",
      "Shape of rotated pairs (real): torch.Size([12, 64, 2])\n",
      "Shape of rotated tokens: torch.Size([12, 128])\n"
     ]
    }
   ],
   "source": [
    "# Apply positional encoding\n",
    "k_per_token_split_into_pairs = k_per_token.float().view(k_per_token.shape[0], -1, 2)\n",
    "print(f\"Shape after splitting: {k_per_token_split_into_pairs.shape}\")\n",
    "k_per_token_as_complex_numbers = torch.view_as_complex(k_per_token_split_into_pairs)\n",
    "print(f\"Shape of pairs (complex): {k_per_token_as_complex_numbers.shape}\")\n",
    "k_per_token_as_complex_numbers_rotated = k_per_token_as_complex_numbers * freqs_cis\n",
    "print(f\"Shape of rotated pairs: {k_per_token_as_complex_numbers_rotated.shape}\")\n",
    "k_per_token_split_into_pairs_rotated = torch.view_as_real(\n",
    "    k_per_token_as_complex_numbers_rotated\n",
    ")\n",
    "print(f\"Shape of rotated pairs (real): {k_per_token_split_into_pairs_rotated.shape}\")\n",
    "k_per_token_rotated = k_per_token_split_into_pairs_rotated.view(k_per_token.shape)\n",
    "print(f\"Shape of rotated tokens: {k_per_token_rotated.shape}\")"
   ]
  },
  {
   "cell_type": "markdown",
   "metadata": {},
   "source": [
    "# Values"
   ]
  },
  {
   "cell_type": "code",
   "execution_count": 20,
   "metadata": {},
   "outputs": [],
   "source": [
    "v_layer0 = model[\"layers.0.attention.wv.weight\"]\n",
    "v_layer0 = v_layer0.view(n_kv_heads, v_layer0.shape[0] // n_kv_heads, dim)\n",
    "v_layer0_head0 = v_layer0[0]\n",
    "v_per_token = token_embeddings @ v_layer0_head0.T"
   ]
  },
  {
   "cell_type": "markdown",
   "metadata": {},
   "source": [
    "# Scaled Dot Product Attention"
   ]
  },
  {
   "cell_type": "code",
   "execution_count": 21,
   "metadata": {},
   "outputs": [
    {
     "name": "stdout",
     "output_type": "stream",
     "text": [
      "Shape: torch.Size([12, 12])\n"
     ]
    }
   ],
   "source": [
    "qk_per_token = q_per_token_rotated @ k_per_token_rotated.T\n",
    "qk_per_token = qk_per_token / (head_dim**0.5)\n",
    "print(f\"Shape: {qk_per_token.shape}\")"
   ]
  },
  {
   "cell_type": "code",
   "execution_count": 22,
   "metadata": {},
   "outputs": [
    {
     "data": {
      "text/plain": [
       "tensor([[3.7595,   -inf,   -inf,   -inf,   -inf],\n",
       "        [8.8772, 6.3576,   -inf,   -inf,   -inf],\n",
       "        [9.2076, 8.3401, 5.1851,   -inf,   -inf],\n",
       "        [8.3824, 7.9961, 6.5433, 5.2781,   -inf],\n",
       "        [8.4780, 8.0762, 7.2457, 7.0795, 6.0598]], grad_fn=<SliceBackward0>)"
      ]
     },
     "execution_count": 22,
     "metadata": {},
     "output_type": "execute_result"
    }
   ],
   "source": [
    "# Apply masking\n",
    "mask = torch.full((len(tokens), len(tokens)), float(\"-inf\"), device=tokens.device)\n",
    "mask = torch.triu(mask, diagonal=1)\n",
    "qk_per_token_after_masking = qk_per_token + mask\n",
    "qk_per_token_after_masking[:5, :5]"
   ]
  },
  {
   "cell_type": "code",
   "execution_count": 23,
   "metadata": {},
   "outputs": [],
   "source": [
    "# Apply softmax\n",
    "qk_per_token_after_masking_after_softmax = torch.nn.functional.softmax(\n",
    "    qk_per_token_after_masking, dim=1\n",
    ").to(torch.bfloat16)"
   ]
  },
  {
   "cell_type": "code",
   "execution_count": 24,
   "metadata": {},
   "outputs": [],
   "source": [
    "qkv_attention = torch.matmul(qk_per_token_after_masking_after_softmax, v_per_token)"
   ]
  },
  {
   "cell_type": "markdown",
   "metadata": {},
   "source": [
    "# Multi Head Attention"
   ]
  },
  {
   "cell_type": "code",
   "execution_count": 25,
   "metadata": {},
   "outputs": [
    {
     "name": "stdout",
     "output_type": "stream",
     "text": [
      "Verify number of heads: 32\n",
      "Dims of each head: torch.Size([12, 128])\n"
     ]
    }
   ],
   "source": [
    "qkv_attention_store = []\n",
    "for head in range(n_heads):\n",
    "    q_layer0_head = q_layer0[head]\n",
    "    k_layer0_head = k_layer0[head // 4]\n",
    "    v_layer0_head = v_layer0[head // 4]\n",
    "\n",
    "    q_per_token = token_embeddings @ q_layer0_head.T\n",
    "    k_per_token = token_embeddings @ k_layer0_head.T\n",
    "    v_per_token = token_embeddings @ v_layer0_head.T\n",
    "\n",
    "    q_per_token_split_into_pairs = q_per_token.float().view(q_per_token.shape[0], -1, 2)\n",
    "    q_per_token_as_complex_numbers = torch.view_as_complex(q_per_token_split_into_pairs)\n",
    "    q_per_token_as_complex_numbers_rotated = q_per_token_as_complex_numbers * freqs_cis\n",
    "    q_per_token_split_into_pairs_rotated = torch.view_as_real(\n",
    "        q_per_token_as_complex_numbers_rotated\n",
    "    )\n",
    "\n",
    "    k_per_token_split_into_pairs = k_per_token.float().view(k_per_token.shape[0], -1, 2)\n",
    "    k_per_token_as_complex_numbers = torch.view_as_complex(k_per_token_split_into_pairs)\n",
    "    k_per_token_as_complex_numbers_rotated = k_per_token_as_complex_numbers * freqs_cis\n",
    "    k_per_token_split_into_pairs_rotated = torch.view_as_real(\n",
    "        k_per_token_as_complex_numbers_rotated\n",
    "    )\n",
    "\n",
    "    qk_per_token = q_per_token_rotated @ k_per_token_rotated.T\n",
    "    qk_per_token = qk_per_token / (head_dim**0.5)\n",
    "    mask = torch.full((len(tokens), len(tokens)), float(\"-inf\"), device=tokens.device)\n",
    "    mask = torch.triu(mask, diagonal=1)\n",
    "    qk_per_token_after_masking = qk_per_token + mask\n",
    "    qk_per_token_after_masking_after_softmax = torch.nn.functional.softmax(\n",
    "        qk_per_token_after_masking, dim=1\n",
    "    ).to(torch.bfloat16)\n",
    "    qkv_attention = torch.matmul(qk_per_token_after_masking_after_softmax, v_per_token)\n",
    "    qkv_attention_store.append(qkv_attention)\n",
    "\n",
    "print(f\"Verify number of heads: {len(qkv_attention_store)}\")\n",
    "print(f\"Dims of each head: {qkv_attention_store[0].shape}\")"
   ]
  },
  {
   "cell_type": "code",
   "execution_count": 26,
   "metadata": {},
   "outputs": [
    {
     "name": "stdout",
     "output_type": "stream",
     "text": [
      "Shape after concatenation: torch.Size([12, 4096])\n",
      "Shape of outout layer: torch.Size([4096, 4096])\n"
     ]
    },
    {
     "name": "stdout",
     "output_type": "stream",
     "text": [
      "Shape of embedding_delta: torch.Size([12, 4096])\n",
      "Shape of embeddings after edit: torch.Size([12, 4096])\n"
     ]
    }
   ],
   "source": [
    "# Concatenate the heads\n",
    "stacked_qkv_attention = torch.cat(qkv_attention_store, dim=-1)\n",
    "print(f\"Shape after concatenation: {stacked_qkv_attention.shape}\")\n",
    "# Apply the output weight\n",
    "w_layer0 = model[\"layers.0.attention.wo.weight\"]\n",
    "print(f\"Shape of outout layer: {w_layer0.shape}\")\n",
    "embedding_delta = stacked_qkv_attention @ w_layer0.T\n",
    "print(f\"Shape of embedding_delta: {embedding_delta.shape}\")\n",
    "# Add the delta to the token embeddings\n",
    "embedding_after_edit = token_embeddings_unnormalized + embedding_delta\n",
    "print(f\"Shape of embeddings after edit: {embedding_after_edit.shape}\")"
   ]
  },
  {
   "cell_type": "markdown",
   "metadata": {},
   "source": [
    "# MLP"
   ]
  },
  {
   "cell_type": "code",
   "execution_count": 27,
   "metadata": {},
   "outputs": [],
   "source": [
    "# Normalize the embeddings\n",
    "embedding_after_edit_normalized = rms_norm(\n",
    "    embedding_after_edit, model[\"layers.0.ffn_norm.weight\"]\n",
    ")"
   ]
  },
  {
   "cell_type": "markdown",
   "metadata": {},
   "source": [
    "![SwiGlu](https://github.com/naklecha/llama3-from-scratch/raw/main/images/swiglu.png)"
   ]
  },
  {
   "cell_type": "code",
   "execution_count": 28,
   "metadata": {},
   "outputs": [
    {
     "name": "stdout",
     "output_type": "stream",
     "text": [
      "shape of embd_w_gate: torch.Size([12, 14336])\n",
      "shape of embd_w_up: torch.Size([12, 14336])\n",
      "shape of output_after_feedforward: torch.Size([12, 4096])\n"
     ]
    }
   ],
   "source": [
    "w_gate = model[\"layers.0.feed_forward.w1.weight\"]\n",
    "w_down = model[\"layers.0.feed_forward.w2.weight\"]\n",
    "w_up = model[\"layers.0.feed_forward.w3.weight\"]\n",
    "\n",
    "embd_w_gate = embedding_after_edit_normalized @ w_gate.T\n",
    "print(f\"shape of embd_w_gate: {embd_w_gate.shape}\")\n",
    "# apply silu\n",
    "silu = torch.nn.functional.silu(embd_w_gate)\n",
    "embd_w_up = embedding_after_edit_normalized @ w_up.T\n",
    "print(f\"shape of embd_w_up: {embd_w_up.shape}\")\n",
    "# multiply both\n",
    "embd_w_gate * embd_w_up\n",
    "# apply w_down\n",
    "output_after_feedforward = silu * embd_w_up @ w_down.T\n",
    "print(f\"shape of output_after_feedforward: {output_after_feedforward.shape}\")"
   ]
  },
  {
   "cell_type": "code",
   "execution_count": 29,
   "metadata": {},
   "outputs": [
    {
     "name": "stdout",
     "output_type": "stream",
     "text": [
      "shape of embedding_after_feedforward: torch.Size([12, 4096])\n"
     ]
    }
   ],
   "source": [
    "# add the output to the embeddings\n",
    "embedding_after_feedforward = embedding_after_edit + output_after_feedforward\n",
    "print(f\"shape of embedding_after_feedforward: {embedding_after_feedforward.shape}\")"
   ]
  },
  {
   "cell_type": "markdown",
   "metadata": {},
   "source": [
    "# Apply for all layers"
   ]
  },
  {
   "cell_type": "code",
   "execution_count": 30,
   "metadata": {},
   "outputs": [],
   "source": [
    "final_embedding = token_embeddings_unnormalized\n",
    "for layer in range(n_layers):\n",
    "    q_layer = model[f\"layers.{layer}.attention.wq.weight\"]\n",
    "    k_layer = model[f\"layers.{layer}.attention.wk.weight\"]\n",
    "    v_layer = model[f\"layers.{layer}.attention.wv.weight\"]\n",
    "    q_layer = q_layer.view(n_heads, q_layer.shape[0] // n_heads, dim)\n",
    "    k_layer = k_layer.view(n_kv_heads, k_layer.shape[0] // n_kv_heads, dim)\n",
    "    v_layer = v_layer.view(n_kv_heads, v_layer.shape[0] // n_kv_heads, dim)\n",
    "\n",
    "    qkv_attention_store = []\n",
    "    for head in range(n_heads):\n",
    "        q_layer_head = q_layer[head]\n",
    "        k_layer_head = k_layer[head // 4]\n",
    "        v_layer_head = v_layer[head // 4]\n",
    "\n",
    "        q_per_token = final_embedding @ q_layer_head.T\n",
    "        k_per_token = final_embedding @ k_layer_head.T\n",
    "        v_per_token = final_embedding @ v_layer_head.T\n",
    "\n",
    "        q_per_token_split_into_pairs = q_per_token.float().view(\n",
    "            q_per_token.shape[0], -1, 2\n",
    "        )\n",
    "        q_per_token_as_complex_numbers = torch.view_as_complex(\n",
    "            q_per_token_split_into_pairs\n",
    "        )\n",
    "        q_per_token_as_complex_numbers_rotated = (\n",
    "            q_per_token_as_complex_numbers * freqs_cis\n",
    "        )\n",
    "        q_per_token_split_into_pairs_rotated = torch.view_as_real(\n",
    "            q_per_token_as_complex_numbers_rotated\n",
    "        )\n",
    "\n",
    "        k_per_token_split_into_pairs = k_per_token.float().view(\n",
    "            k_per_token.shape[0], -1, 2\n",
    "        )\n",
    "        k_per_token_as_complex_numbers = torch.view_as_complex(\n",
    "            k_per_token_split_into_pairs\n",
    "        )\n",
    "        k_per_token_as_complex_numbers_rotated = (\n",
    "            k_per_token_as_complex_numbers * freqs_cis\n",
    "        )\n",
    "        k_per_token_split_into_pairs_rotated = torch.view_as_real(\n",
    "            k_per_token_as_complex_numbers_rotated\n",
    "        )\n",
    "\n",
    "        qk_per_token = q_per_token_rotated @ k_per_token_rotated.T\n",
    "        qk_per_token = qk_per_token / (head_dim**0.5)\n",
    "        mask = torch.full(\n",
    "            (len(tokens), len(tokens)), float(\"-inf\"), device=tokens.device\n",
    "        )\n",
    "        mask = torch.triu(mask, diagonal=1)\n",
    "        qk_per_token_after_masking = qk_per_token + mask\n",
    "        qk_per_token_after_masking_after_softmax = torch.nn.functional.softmax(\n",
    "            qk_per_token, dim=1\n",
    "        ).to(torch.bfloat16)\n",
    "        qkv_attention = torch.matmul(\n",
    "            qk_per_token_after_masking_after_softmax, v_per_token\n",
    "        )\n",
    "        qkv_attention_store.append(qkv_attention)\n",
    "\n",
    "    stacked_qkv_attention = torch.cat(qkv_attention_store, dim=-1)\n",
    "    w_layer = model[f\"layers.{layer}.attention.wo.weight\"]\n",
    "    embedding_delta = stacked_qkv_attention @ w_layer.T\n",
    "    embedding_after_edit = final_embedding + embedding_delta\n",
    "    embedding_after_edit_normalized = rms_norm(\n",
    "        embedding_after_edit, model[f\"layers.{layer}.ffn_norm.weight\"]\n",
    "    )\n",
    "    embd_w_gate = (\n",
    "        embedding_after_edit_normalized\n",
    "        @ model[f\"layers.{layer}.feed_forward.w1.weight\"].T\n",
    "    )\n",
    "    silu = torch.nn.functional.silu(embd_w_gate)\n",
    "    embd_w_up = (\n",
    "        embedding_after_edit_normalized\n",
    "        @ model[f\"layers.{layer}.feed_forward.w3.weight\"].T\n",
    "    )\n",
    "    output_after_feedforward = (\n",
    "        silu * embd_w_up @ model[f\"layers.{layer}.feed_forward.w2.weight\"].T\n",
    "    )\n",
    "    final_embedding = embedding_after_edit + output_after_feedforward"
   ]
  },
  {
   "cell_type": "code",
   "execution_count": 31,
   "metadata": {},
   "outputs": [
    {
     "name": "stdout",
     "output_type": "stream",
     "text": [
      "Shape of final embedding: torch.Size([12, 4096])\n"
     ]
    }
   ],
   "source": [
    "# Apply norm on final embedding\n",
    "final_embedding = rms_norm(final_embedding, model[\"norm.weight\"])\n",
    "print(f\"Shape of final embedding: {final_embedding.shape}\")"
   ]
  },
  {
   "cell_type": "code",
   "execution_count": 32,
   "metadata": {},
   "outputs": [
    {
     "name": "stdout",
     "output_type": "stream",
     "text": [
      "Shape of logits: torch.Size([128256])\n",
      "Next token: 43366\n",
      "Decoded next token: brook\n"
     ]
    }
   ],
   "source": [
    "# Predict the Next Token\n",
    "logits = final_embedding[-1] @ model[\"output.weight\"].T\n",
    "print(f\"Shape of logits: {logits.shape}\")\n",
    "next_token = torch.argmax(logits, dim=-1)\n",
    "print(f\"Next token: {next_token}\")\n",
    "decoded_next_token = tokenizer.decode([next_token.item()])\n",
    "print(f\"Decoded next token: {decoded_next_token}\")"
   ]
  },
  {
   "cell_type": "code",
   "execution_count": null,
   "metadata": {},
   "outputs": [],
   "source": []
  }
 ],
 "metadata": {
  "kernelspec": {
   "display_name": "llama",
   "language": "python",
   "name": "python3"
  },
  "language_info": {
   "codemirror_mode": {
    "name": "ipython",
    "version": 3
   },
   "file_extension": ".py",
   "mimetype": "text/x-python",
   "name": "python",
   "nbconvert_exporter": "python",
   "pygments_lexer": "ipython3",
   "version": "3.10.10"
  }
 },
 "nbformat": 4,
 "nbformat_minor": 2
}
