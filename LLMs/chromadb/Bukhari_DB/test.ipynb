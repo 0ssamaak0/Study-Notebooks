{
 "cells": [
  {
   "cell_type": "code",
   "execution_count": 1,
   "metadata": {
    "metadata": {}
   },
   "outputs": [],
   "source": [
    "import requests\n",
    "import json\n",
    "import chromadb\n",
    "import openai\n",
    "import pandas as pd\n",
    "from tqdm import tqdm\n",
    "\n",
    "chroma_client = chromadb.PersistentClient(path=\"db/\")\n",
    "try:\n",
    "    collection = chroma_client.create_collection(name=\"my_collection\")\n",
    "except:\n",
    "    collection = chroma_client.get_collection(name=\"my_collection\")"
   ]
  },
  {
   "cell_type": "code",
   "execution_count": 2,
   "metadata": {
    "metadata": {}
   },
   "outputs": [],
   "source": [
    "client = openai.OpenAI(\n",
    "    api_key=\"\",\n",
    ")\n",
    "\n",
    "\n",
    "def get_embeddings(text):\n",
    "    response = client.embeddings.create(\n",
    "        model=\"text-embedding-ada-002\",\n",
    "        input=f\"{text}\",\n",
    "    )\n",
    "    return response.data[0].embedding"
   ]
  },
  {
   "cell_type": "code",
   "execution_count": 4,
   "metadata": {
    "metadata": {}
   },
   "outputs": [],
   "source": [
    "path = \"\"\n",
    "# load json path to pandas dataframe\n",
    "df = pd.read_json(path)"
   ]
  },
  {
   "cell_type": "code",
   "execution_count": 57,
   "metadata": {
    "metadata": {}
   },
   "outputs": [
    {
     "data": {
      "text/plain": [
       "Index(['Chapter_Number', 'Chapter_English', 'Chapter_Arabic', 'Section_Number',\n",
       "       'Section_English', 'Section_Arabic', 'Hadith_number', 'English_Hadith',\n",
       "       'English_Isnad', 'English_Matn', 'Arabic_Hadith', 'Arabic_Isnad',\n",
       "       'Arabic_Matn', 'Arabic_Comment', 'English_Grade', 'Arabic_Grade',\n",
       "       'embeddings'],\n",
       "      dtype='object')"
      ]
     },
     "execution_count": 57,
     "metadata": {},
     "output_type": "execute_result"
    }
   ],
   "source": [
    "df.columns"
   ]
  },
  {
   "cell_type": "code",
   "execution_count": 58,
   "metadata": {
    "metadata": {}
   },
   "outputs": [
    {
     "data": {
      "text/plain": [
       "'narrated anas bin malik once an ansari woman accompanied by a son of hers came to allahs messenger ﷺ allahs messenger ﷺ spoketo her and said twice by him in whose hand my life is you are the most beloved people to me'"
      ]
     },
     "execution_count": 58,
     "metadata": {},
     "output_type": "execute_result"
    }
   ],
   "source": [
    "df.iloc[10][\"English_Hadith\"]"
   ]
  },
  {
   "cell_type": "code",
   "execution_count": 14,
   "metadata": {
    "metadata": {}
   },
   "outputs": [],
   "source": [
    "embeddings = df[\"embeddings\"]"
   ]
  },
  {
   "cell_type": "code",
   "execution_count": 17,
   "metadata": {
    "metadata": {}
   },
   "outputs": [
    {
     "name": "stderr",
     "output_type": "stream",
     "text": [
      "100%|██████████| 7345/7345 [02:32<00:00, 48.25it/s]\n"
     ]
    }
   ],
   "source": [
    "for i in tqdm(range(len(embeddings))):\n",
    "    collection.add(ids=str(i), embeddings=embeddings[i])"
   ]
  },
  {
   "cell_type": "code",
   "execution_count": 20,
   "metadata": {
    "metadata": {}
   },
   "outputs": [],
   "source": [
    "emb1 = df.iloc[0][\"embeddings\"]\n",
    "text1 = df.iloc[0][\"Arabic_Hadith\"]"
   ]
  },
  {
   "cell_type": "code",
   "execution_count": 23,
   "metadata": {
    "metadata": {}
   },
   "outputs": [],
   "source": [
    "embeddings = get_embeddings(text1)"
   ]
  },
  {
   "cell_type": "code",
   "execution_count": 79,
   "metadata": {
    "metadata": {}
   },
   "outputs": [],
   "source": [
    "import torch"
   ]
  },
  {
   "cell_type": "code",
   "execution_count": 81,
   "metadata": {
    "metadata": {}
   },
   "outputs": [
    {
     "name": "stdout",
     "output_type": "stream",
     "text": [
      "1.17 s ± 247 ms per loop (mean ± std. dev. of 7 runs, 1 loop each)\n"
     ]
    }
   ],
   "source": [
    "%%timeit\n",
    "# sample matrix mul\n",
    "random_1 = torch.randn(1, 200000)\n",
    "random_2 = torch.randn(200000, 1024)\n",
    "\n",
    "result = torch.matmul(random_1, random_2)\n"
   ]
  },
  {
   "cell_type": "code",
   "execution_count": 82,
   "metadata": {
    "metadata": {}
   },
   "outputs": [
    {
     "name": "stdout",
     "output_type": "stream",
     "text": [
      "6.57 ms ± 27.5 µs per loop (mean ± std. dev. of 7 runs, 1,000 loops each)\n"
     ]
    }
   ],
   "source": [
    "%%timeit\n",
    "# sample matrix mul\n",
    "random_1 = torch.randn(1, 200000, device = \"cuda\")\n",
    "random_2 = torch.randn(200000, 1024, device = \"cuda\")\n",
    "\n",
    "result = torch.matmul(random_1, random_2)\n"
   ]
  },
  {
   "cell_type": "code",
   "execution_count": null,
   "metadata": {},
   "outputs": [],
   "source": [
    "arr = []\n",
    "arr2 = []\n",
    "arr3 = []arr3\n",
    "\n",
    "for element1, element2 in zip(embeddings, emb1):\n",
    "    if element1 > element2:\n",
    "        arr3.append(element1)\n",
    "    elif element1 < element2:\n",
    "        arr3.append(element2)\n",
    "    \n",
    "arr3 = [element1 if element1 > element2 else element2 for element1, element2 in zip(embeddings, emb1)]       "
   ]
  },
  {
   "cell_type": "code",
   "execution_count": 119,
   "metadata": {
    "metadata": {}
   },
   "outputs": [],
   "source": [
    "def get_hadith(arabic_prompt, translate=True):\n",
    "    # Translate into English using ChatGPT\n",
    "    if translate:\n",
    "        english_prompt = client.chat.completions.create(\n",
    "            model=\"gpt-3.5-turbo\",\n",
    "            messages=[\n",
    "                {\n",
    "                    \"role\": \"user\",\n",
    "                    \"content\": f\"Translate the following Arabic text into English: {arabic_prompt}\",\n",
    "                },\n",
    "            ],\n",
    "        )\n",
    "        english_prompt = english_prompt.choices[0].message.content\n",
    "        print(english_prompt)\n",
    "    else:\n",
    "        english_prompt = arabic_prompt\n",
    "    embeddings = get_embeddings(arabic_prompt)\n",
    "    results = collection.query(embeddings, n_results=5)\n",
    "    ids = [int(id) for id in results[\"ids\"][0]]\n",
    "    hadiths = df.iloc[ids][\"Arabic_Hadith\"]\n",
    "    for hadith in hadiths:\n",
    "        print(hadith)\n",
    "        print(\"*\" * 10)"
   ]
  },
  {
   "cell_type": "code",
   "execution_count": 123,
   "metadata": {
    "metadata": {}
   },
   "outputs": [
    {
     "name": "stdout",
     "output_type": "stream",
     "text": [
      "حدثنا الحميدي عبدالله بن الزبير قال حدثنا سفيان قال حدثنا يحيى بن سعيد الأنصاري قال أخبرني محمد بن إبراهيم التيمي أنه سمع علقمة بن وقاص الليثي يقول سمعت عمر بن الخطاب ـ رضى الله عنه ـ على المنبر قال سمعت رسول الله صلى الله عليه وسلم يقول   إنما الأعمال بالنيات وإنما لكل امرئ ما نوى فمن كانت هجرته إلى دنيا يصيبها أو إلى امرأة ينكحها فهجرته إلى ما هاجر إليه \n",
      "**********\n",
      "حدثنا مسدد حدثنا يحيى عن سفيان حدثني سلمة بن كهيل وحدثنا أبو نعيم حدثنا سفيان عن سلمة قال سمعت جندبا يقول قال النبي صلى الله عليه وسلم ولم أسمع أحدا يقول قال النبي صلى الله عليه وسلم غيره فدنوت منه فسمعته يقول قال النبي صلى الله عليه وسلم   من سمع سمع الله به ومن يرائي يرائي الله به \n",
      "**********\n",
      "حدثنا عبد العزيز بن عبد الله حدثنا سليمان عن موسى بن عقبة عن أبي سلمة بن عبد الرحمن عن عائشة أن رسول الله صلى الله عليه وسلم قال   سددوا وقاربوا واعلموا أن لن يدخل أحدكم عمله الجنة وأن أحب الأعمال أدومها إلى الله وإن قل \n",
      "**********\n",
      "حدثنا قتيبة بن سعيد حدثنا عبد الوهاب قال سمعت يحيى بن سعيد يقول أخبرني محمد بن إبراهيم أنه سمع علقمة بن وقاص الليثي يقول سمعت عمر بن الخطاب ـ رضى الله عنه ـ يقول سمعت رسول الله صلى الله عليه وسلم يقول   إنما الأعمال بالنية وإنما لامرئ ما نوى فمن كانت هجرته إلى الله ورسوله فهجرته إلى الله ورسوله ومن كانت هجرته إلى دنيا يصيبها أو امرأة يتزوجها فهجرته إلى ما هاجر إليه \n",
      "**********\n",
      "حدثنا يحيى بن قزعة حدثنا مالك عن يحيى بن سعيد عن محمد بن إبراهيم بن الحارث عن علقمة بن وقاص عن عمر بن الخطاب ـ رضى الله عنه ـ قال قال النبي صلى الله عليه وسلم   العمل بالنية وإنما لامرئ ما نوى فمن كانت هجرته إلى الله ورسوله فهجرته إلى الله ورسوله صلى الله عليه وسلم ومن كانت هجرته إلى دنيا يصيبها أو امرأة ينكحها فهجرته إلى ما هاجر إليه \n",
      "**********\n"
     ]
    }
   ],
   "source": [
    "get_hadith(\"Intentions are crucial\", False)"
   ]
  }
 ],
 "metadata": {
  "kernelspec": {
   "display_name": "main",
   "language": "python",
   "name": "python3"
  },
  "language_info": {
   "codemirror_mode": {
    "name": "ipython",
    "version": 3
   },
   "file_extension": ".py",
   "mimetype": "text/x-python",
   "name": "python",
   "nbconvert_exporter": "python",
   "pygments_lexer": "ipython3",
   "version": "3.11.8"
  }
 },
 "nbformat": 4,
 "nbformat_minor": 2
}
