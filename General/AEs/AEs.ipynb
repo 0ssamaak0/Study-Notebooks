{
 "cells": [
  {
   "cell_type": "code",
   "execution_count": 8,
   "id": "e66f4c3c",
   "metadata": {},
   "outputs": [],
   "source": [
    "import torch\n",
    "from torch import nn, optim\n",
    "from torchvision import datasets, transforms\n",
    "import matplotlib.pyplot as plt\n",
    "from tqdm import tqdm\n",
    "from models import LinearAE, ConvAE"
   ]
  },
  {
   "cell_type": "markdown",
   "id": "57b3e504",
   "metadata": {},
   "source": [
    "# Data Loading & Model Init"
   ]
  },
  {
   "cell_type": "code",
   "execution_count": 9,
   "id": "9bce7459",
   "metadata": {},
   "outputs": [],
   "source": [
    "# Load MNIST\n",
    "dataset = datasets.MNIST(root='./data', train=True, download=True,transform = transforms.ToTensor())\n",
    "dataloader = torch.utils.data.DataLoader(dataset, batch_size=32, shuffle=True)\n",
    "# Split MNIST into train, validation, and test sets\n",
    "train_size = int(0.9 * len(dataset))\n",
    "val_size = len(dataset) - train_size\n",
    "train_dataset, val_dataset = torch.utils.data.random_split(dataset, [train_size, val_size])\n",
    "\n",
    "val_dataloader = torch.utils.data.DataLoader(val_dataset, batch_size=32, shuffle=False)\n",
    "\n",
    "test_dataset = datasets.MNIST(root='./data', train=False, download=True, transform=transforms.ToTensor())\n",
    "test_dataloader = torch.utils.data.DataLoader(test_dataset, batch_size=32, shuffle=False)"
   ]
  },
  {
   "cell_type": "code",
   "execution_count": 10,
   "id": "fe17707d",
   "metadata": {},
   "outputs": [
    {
     "name": "stdout",
     "output_type": "stream",
     "text": [
      "Number of trainable parameters: 12201\n"
     ]
    }
   ],
   "source": [
    "# model = LinearAE()\n",
    "model = ConvAE(use_skip = True)\n",
    "# L2 Loss\n",
    "loss = nn.MSELoss()\n",
    "# Optimizer\n",
    "optimizer = optim.Adam(model.parameters(), lr=1e-5)\n",
    "print(f\"Number of trainable parameters: {sum(p.numel() for p in model.parameters() if p.requires_grad)}\")"
   ]
  },
  {
   "cell_type": "markdown",
   "id": "79b3fe58",
   "metadata": {},
   "source": [
    "# Denoising Autoencoderm"
   ]
  },
  {
   "cell_type": "code",
   "execution_count": 11,
   "id": "6b6060f0",
   "metadata": {},
   "outputs": [
    {
     "name": "stdout",
     "output_type": "stream",
     "text": [
      "torch.Size([1, 1, 28, 28])\n"
     ]
    }
   ],
   "source": [
    "# Run it through a single example\n",
    "example = next(iter(dataloader))[0][0]\n",
    "# Forward pass\n",
    "output = model(example.unsqueeze(0))\n",
    "print(output.shape)"
   ]
  },
  {
   "cell_type": "code",
   "execution_count": 12,
   "id": "a58a6445",
   "metadata": {},
   "outputs": [
    {
     "name": "stderr",
     "output_type": "stream",
     "text": [
      "Training:   0%|          | 0/9375 [00:00<?, ?batch/s]"
     ]
    },
    {
     "name": "stderr",
     "output_type": "stream",
     "text": [
      "Training:  20%|██        | 1893/9375 [00:19<02:43, 45.64batch/s, Epoch=2/5, Batch=19/1875, Loss=0.023302, Avg Loss=0.023514]   "
     ]
    },
    {
     "name": "stdout",
     "output_type": "stream",
     "text": [
      "Epoch 1: Validation Loss = 0.024065\n"
     ]
    },
    {
     "name": "stderr",
     "output_type": "stream",
     "text": [
      "Training:  40%|████      | 3772/9375 [00:38<02:16, 41.08batch/s, Epoch=3/5, Batch=23/1875, Loss=0.007728, Avg Loss=0.008469]   "
     ]
    },
    {
     "name": "stdout",
     "output_type": "stream",
     "text": [
      "Epoch 2: Validation Loss = 0.008240\n"
     ]
    },
    {
     "name": "stderr",
     "output_type": "stream",
     "text": [
      "Training:  60%|██████    | 5646/9375 [00:57<01:03, 58.73batch/s, Epoch=4/5, Batch=22/1875, Loss=0.004368, Avg Loss=0.004579]   "
     ]
    },
    {
     "name": "stdout",
     "output_type": "stream",
     "text": [
      "Epoch 3: Validation Loss = 0.004575\n"
     ]
    },
    {
     "name": "stderr",
     "output_type": "stream",
     "text": [
      "Training:  80%|████████  | 7520/9375 [01:15<00:31, 58.75batch/s, Epoch=5/5, Batch=21/1875, Loss=0.002521, Avg Loss=0.002841]   "
     ]
    },
    {
     "name": "stdout",
     "output_type": "stream",
     "text": [
      "Epoch 4: Validation Loss = 0.002841\n"
     ]
    },
    {
     "name": "stderr",
     "output_type": "stream",
     "text": [
      "Training: 100%|██████████| 9375/9375 [01:32<00:00, 100.95batch/s, Epoch=5/5, Batch=1875/1875, Loss=0.001961, Avg Loss=0.002320]"
     ]
    },
    {
     "name": "stdout",
     "output_type": "stream",
     "text": [
      "Epoch 5: Validation Loss = 0.001870\n"
     ]
    },
    {
     "name": "stderr",
     "output_type": "stream",
     "text": [
      "\n"
     ]
    }
   ],
   "source": [
    "# Denoising Autoencoders\n",
    "noise_factor = 0 # Set it to 0 to disable noise\n",
    "epochs = 5\n",
    "outputs = []\n",
    "losses = []\n",
    "\n",
    "device = \"mps\"\n",
    "model.to(device)\n",
    "\n",
    "# Calculate total number of batches for progress bar\n",
    "total_batches = epochs * len(dataloader)\n",
    "# Create a single progress bar for all training steps\n",
    "with tqdm(total=total_batches, desc=\"Training\", unit=\"batch\") as pbar:\n",
    "    for epoch in range(epochs):\n",
    "        epoch_loss = 0\n",
    "        for batch_idx, (images, labels) in enumerate(dataloader):\n",
    "            images = images.to(device)\n",
    "            noisy = images + noise_factor * torch.randn_like(images)  # Add noise\n",
    "            noisy = torch.clamp(noisy, 0., 1.)  # Ensure pixel values are between 0 and 1\n",
    "            output = model(noisy)\n",
    "            batch_loss = loss(output, images)\n",
    "            optimizer.zero_grad()\n",
    "            batch_loss.backward()\n",
    "            optimizer.step()\n",
    "\n",
    "            losses.append(batch_loss.item())\n",
    "            epoch_loss += batch_loss.item()\n",
    "            \n",
    "            # Update progress bar with current loss\n",
    "            pbar.set_postfix({\n",
    "                'Epoch': f'{epoch+1}/{epochs}',\n",
    "                'Batch': f'{batch_idx+1}/{len(dataloader)}',\n",
    "                'Loss': f'{batch_loss.item():.6f}',\n",
    "                'Avg Loss': f'{epoch_loss/(batch_idx+1):.6f}'\n",
    "            })\n",
    "            pbar.update(1)\n",
    "        \n",
    "        # Store output from last batch of each epoch\n",
    "        outputs.append(output.cpu().detach().numpy())\n",
    "        # Calculate validation loss after each epoch\n",
    "        model.eval()\n",
    "        val_loss = 0\n",
    "        with torch.no_grad():\n",
    "            for val_images, _ in val_dataloader:\n",
    "                val_images = val_images.to(device)\n",
    "                val_output = model(val_images)\n",
    "                val_loss += loss(val_output, val_images).item()\n",
    "        val_loss /= len(val_dataloader)\n",
    "        print(f\"Epoch {epoch+1}: Validation Loss = {val_loss:.6f}\")\n",
    "        model.train()"
   ]
  },
  {
   "cell_type": "code",
   "execution_count": null,
   "id": "115a901c",
   "metadata": {},
   "outputs": [
    {
     "ename": "RuntimeError",
     "evalue": "Error(s) in loading state_dict for LinearAE:\n\tMissing key(s) in state_dict: \"encoder.0.weight\", \"encoder.0.bias\", \"encoder.2.weight\", \"encoder.2.bias\", \"encoder.4.weight\", \"encoder.4.bias\", \"encoder.6.weight\", \"encoder.6.bias\", \"encoder.8.weight\", \"encoder.8.bias\", \"decoder.0.weight\", \"decoder.0.bias\", \"decoder.2.weight\", \"decoder.2.bias\", \"decoder.4.weight\", \"decoder.4.bias\", \"decoder.6.weight\", \"decoder.6.bias\", \"decoder.8.weight\", \"decoder.8.bias\". \n\tUnexpected key(s) in state_dict: \"conv1.weight\", \"conv1.bias\", \"conv2.weight\", \"conv2.bias\", \"conv3.weight\", \"conv3.bias\", \"deconv1.weight\", \"deconv1.bias\", \"deconv2.weight\", \"deconv2.bias\", \"deconv3.weight\", \"deconv3.bias\". ",
     "output_type": "error",
     "traceback": [
      "\u001b[31m---------------------------------------------------------------------------\u001b[39m",
      "\u001b[31mRuntimeError\u001b[39m                              Traceback (most recent call last)",
      "\u001b[36mCell\u001b[39m\u001b[36m \u001b[39m\u001b[32mIn[12]\u001b[39m\u001b[32m, line 5\u001b[39m\n\u001b[32m      1\u001b[39m \u001b[38;5;66;03m# save model state dict\u001b[39;00m\n\u001b[32m      2\u001b[39m \u001b[38;5;66;03m# torch.save(model.state_dict(), 'conv_ae_mnist.pth')\u001b[39;00m\n\u001b[32m      3\u001b[39m \u001b[38;5;66;03m# Load model state dict\u001b[39;00m\n\u001b[32m      4\u001b[39m device = \u001b[33m\"\u001b[39m\u001b[33mmps\u001b[39m\u001b[33m\"\u001b[39m\n\u001b[32m----> \u001b[39m\u001b[32m5\u001b[39m \u001b[43mmodel\u001b[49m\u001b[43m.\u001b[49m\u001b[43mload_state_dict\u001b[49m\u001b[43m(\u001b[49m\u001b[43mtorch\u001b[49m\u001b[43m.\u001b[49m\u001b[43mload\u001b[49m\u001b[43m(\u001b[49m\u001b[33;43m'\u001b[39;49m\u001b[33;43mconv_ae_mnist.pth\u001b[39;49m\u001b[33;43m'\u001b[39;49m\u001b[43m)\u001b[49m\u001b[43m)\u001b[49m\n\u001b[32m      6\u001b[39m model.to(device)\n",
      "\u001b[36mFile \u001b[39m\u001b[32m~/miniconda3/envs/torch/lib/python3.13/site-packages/torch/nn/modules/module.py:2593\u001b[39m, in \u001b[36mModule.load_state_dict\u001b[39m\u001b[34m(self, state_dict, strict, assign)\u001b[39m\n\u001b[32m   2585\u001b[39m         error_msgs.insert(\n\u001b[32m   2586\u001b[39m             \u001b[32m0\u001b[39m,\n\u001b[32m   2587\u001b[39m             \u001b[33m\"\u001b[39m\u001b[33mMissing key(s) in state_dict: \u001b[39m\u001b[38;5;132;01m{}\u001b[39;00m\u001b[33m. \u001b[39m\u001b[33m\"\u001b[39m.format(\n\u001b[32m   2588\u001b[39m                 \u001b[33m\"\u001b[39m\u001b[33m, \u001b[39m\u001b[33m\"\u001b[39m.join(\u001b[33mf\u001b[39m\u001b[33m'\u001b[39m\u001b[33m\"\u001b[39m\u001b[38;5;132;01m{\u001b[39;00mk\u001b[38;5;132;01m}\u001b[39;00m\u001b[33m\"\u001b[39m\u001b[33m'\u001b[39m \u001b[38;5;28;01mfor\u001b[39;00m k \u001b[38;5;129;01min\u001b[39;00m missing_keys)\n\u001b[32m   2589\u001b[39m             ),\n\u001b[32m   2590\u001b[39m         )\n\u001b[32m   2592\u001b[39m \u001b[38;5;28;01mif\u001b[39;00m \u001b[38;5;28mlen\u001b[39m(error_msgs) > \u001b[32m0\u001b[39m:\n\u001b[32m-> \u001b[39m\u001b[32m2593\u001b[39m     \u001b[38;5;28;01mraise\u001b[39;00m \u001b[38;5;167;01mRuntimeError\u001b[39;00m(\n\u001b[32m   2594\u001b[39m         \u001b[33m\"\u001b[39m\u001b[33mError(s) in loading state_dict for \u001b[39m\u001b[38;5;132;01m{}\u001b[39;00m\u001b[33m:\u001b[39m\u001b[38;5;130;01m\\n\u001b[39;00m\u001b[38;5;130;01m\\t\u001b[39;00m\u001b[38;5;132;01m{}\u001b[39;00m\u001b[33m\"\u001b[39m.format(\n\u001b[32m   2595\u001b[39m             \u001b[38;5;28mself\u001b[39m.\u001b[34m__class__\u001b[39m.\u001b[34m__name__\u001b[39m, \u001b[33m\"\u001b[39m\u001b[38;5;130;01m\\n\u001b[39;00m\u001b[38;5;130;01m\\t\u001b[39;00m\u001b[33m\"\u001b[39m.join(error_msgs)\n\u001b[32m   2596\u001b[39m         )\n\u001b[32m   2597\u001b[39m     )\n\u001b[32m   2598\u001b[39m \u001b[38;5;28;01mreturn\u001b[39;00m _IncompatibleKeys(missing_keys, unexpected_keys)\n",
      "\u001b[31mRuntimeError\u001b[39m: Error(s) in loading state_dict for LinearAE:\n\tMissing key(s) in state_dict: \"encoder.0.weight\", \"encoder.0.bias\", \"encoder.2.weight\", \"encoder.2.bias\", \"encoder.4.weight\", \"encoder.4.bias\", \"encoder.6.weight\", \"encoder.6.bias\", \"encoder.8.weight\", \"encoder.8.bias\", \"decoder.0.weight\", \"decoder.0.bias\", \"decoder.2.weight\", \"decoder.2.bias\", \"decoder.4.weight\", \"decoder.4.bias\", \"decoder.6.weight\", \"decoder.6.bias\", \"decoder.8.weight\", \"decoder.8.bias\". \n\tUnexpected key(s) in state_dict: \"conv1.weight\", \"conv1.bias\", \"conv2.weight\", \"conv2.bias\", \"conv3.weight\", \"conv3.bias\", \"deconv1.weight\", \"deconv1.bias\", \"deconv2.weight\", \"deconv2.bias\", \"deconv3.weight\", \"deconv3.bias\". "
     ]
    }
   ],
   "source": [
    "# # save model state dict\n",
    "# # torch.save(model.state_dict(), 'conv_ae_mnist.pth')\n",
    "# # Load model state dict\n",
    "# device = \"mps\"\n",
    "# model.load_state_dict(torch.load('conv_ae_mnist.pth'))\n",
    "# model.to(device)"
   ]
  },
  {
   "cell_type": "code",
   "execution_count": 14,
   "id": "010ea7f0",
   "metadata": {},
   "outputs": [
    {
     "data": {
      "image/png": "[encoded data removed]",
      "text/plain": [
       "<Figure size 640x480 with 1 Axes>"
      ]
     },
     "metadata": {},
     "output_type": "display_data"
    },
    {
     "name": "stdout",
     "output_type": "stream",
     "text": [
      "Test Loss = 0.001820\n"
     ]
    },
    {
     "data": {
      "image/png": "[encoded data removed]",
      "text/plain": [
       "<Figure size 1500x400 with 20 Axes>"
      ]
     },
     "metadata": {},
     "output_type": "display_data"
    }
   ],
   "source": [
    "# plt.plot(losses)\n",
    "plt.xlabel('Batch')\n",
    "plt.ylabel('Loss')\n",
    "plt.title('Training Loss over Batches')\n",
    "plt.show()\n",
    "\n",
    "# calculate test loss\n",
    "model.eval()\n",
    "test_loss = 0\n",
    "with torch.no_grad():\n",
    "    for test_images, _ in test_dataloader:\n",
    "        test_images = test_images.to(device)\n",
    "        test_output = model(test_images)\n",
    "        test_loss += loss(test_output, test_images).item()\n",
    "test_loss /= len(test_dataloader)\n",
    "print(f\"Test Loss = {test_loss:.6f}\")\n",
    "# Visualize some outputs\n",
    "def visualize_outputs(outputs, num_images=10):\n",
    "    \"\"\"Visualize the outputs of the autoencoder.\"\"\"\n",
    "    fig, axes = plt.subplots(2, num_images, figsize=(15, 4))\n",
    "    for i in range(num_images):\n",
    "        # Original images\n",
    "        axes[0, i].imshow(outputs[-1][i].reshape(28, 28), cmap='gray')\n",
    "        axes[0, i].axis('off')\n",
    "        # Reconstructed images\n",
    "        axes[1, i].imshow(outputs[-1][i].reshape(28, 28), cmap='gray')\n",
    "        axes[1, i].axis('off')\n",
    "    plt.show()\n",
    "visualize_outputs(outputs, num_images=10)"
   ]
  }
 ],
 "metadata": {
  "kernelspec": {
   "display_name": "torch",
   "language": "python",
   "name": "python3"
  },
  "language_info": {
   "codemirror_mode": {
    "name": "ipython",
    "version": 3
   },
   "file_extension": ".py",
   "mimetype": "text/x-python",
   "name": "python",
   "nbconvert_exporter": "python",
   "pygments_lexer": "ipython3",
   "version": "3.13.2"
  }
 },
 "nbformat": 4,
 "nbformat_minor": 5
}
